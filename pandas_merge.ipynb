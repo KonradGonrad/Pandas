{
  "nbformat": 4,
  "nbformat_minor": 0,
  "metadata": {
    "colab": {
      "private_outputs": true,
      "provenance": []
    },
    "kernelspec": {
      "name": "python3",
      "display_name": "Python 3"
    },
    "language_info": {
      "name": "python"
    }
  },
  "cells": [
    {
      "cell_type": "code",
      "execution_count": null,
      "metadata": {
        "id": "Cho5fcetxWl4"
      },
      "outputs": [],
      "source": [
        "import pandas as pd\n",
        "\n",
        "df_sales = pd.DataFrame({\n",
        "    'ID': [1, 2, 3, 4, 5],\n",
        "    'Sprzedawca': ['Anna', 'Bartek', 'Anna', 'Kasia', 'Marek'],\n",
        "    'Produkt': ['Laptop', 'Tablet', 'Smartfon', 'Tablet', 'Laptop'],\n",
        "    'Sprzedaż': [3000, 1500, 2200, 1800, 3200]\n",
        "})\n",
        "\n",
        "df_employees = pd.DataFrame({\n",
        "    'Sprzedawca': ['Anna', 'Bartek', 'Kasia', 'Marek', 'Zofia'],\n",
        "    'Region': ['Północ', 'Południe', 'Zachód', 'Wschód', 'Centralny'],\n",
        "    'Zatrudniony_od': ['2020-01-01', '2021-05-10', '2022-07-15', '2019-03-12', '2023-01-01']\n",
        "})\n"
      ]
    },
    {
      "cell_type": "code",
      "source": [
        "#df_sales.set_index('ID', inplace=True)\n",
        "df_sales"
      ],
      "metadata": {
        "id": "C1ni23oAxfxw"
      },
      "execution_count": null,
      "outputs": []
    },
    {
      "cell_type": "code",
      "source": [
        "df_employees"
      ],
      "metadata": {
        "id": "YAXMVpIQxjiv"
      },
      "execution_count": null,
      "outputs": []
    },
    {
      "cell_type": "code",
      "source": [
        "# pd concat with rows, that's not good with that data\n",
        "df_concated = pd.concat([df_sales, df_employees], axis=0)\n",
        "df_concated"
      ],
      "metadata": {
        "id": "hSt85JWlyNzT"
      },
      "execution_count": null,
      "outputs": []
    },
    {
      "cell_type": "code",
      "source": [
        "df_concated = pd.concat([df_sales, df_employees], axis=1)\n",
        "df_concated"
      ],
      "metadata": {
        "id": "kHu6u3DreylK"
      },
      "execution_count": null,
      "outputs": []
    },
    {
      "cell_type": "code",
      "source": [
        "df_concated.keys = [\"Sprzedawca\"]\n",
        "df_concated.set_index('ID', inplace=True)\n",
        "df_concated"
      ],
      "metadata": {
        "id": "e4jhZxrCeNu_"
      },
      "execution_count": null,
      "outputs": []
    },
    {
      "cell_type": "code",
      "source": [
        "# pd concat with columns\n",
        "df_concated = pd.concat([df_sales, df_employees], axis=1)\n",
        "df_concated"
      ],
      "metadata": {
        "id": "cAEm95u5xkE5"
      },
      "execution_count": null,
      "outputs": []
    },
    {
      "cell_type": "code",
      "source": [
        "# concat with keys\n",
        "df_concated_wk = pd.concat([df_employees, df_sales], axis=1, keys=['x', 'y'])\n",
        "df_concated_wk"
      ],
      "metadata": {
        "id": "JO7ev89j37Vt"
      },
      "execution_count": null,
      "outputs": []
    },
    {
      "cell_type": "code",
      "source": [
        "import pandas as pd\n",
        "\n",
        "df1 = pd.DataFrame({'A': ['A0', 'A1'], 'B': ['B0', 'B1']})\n",
        "#     A   B\n",
        "# 0  A0  B0\n",
        "# 1  A1  B1\n",
        "\n",
        "df2 = pd.DataFrame({'A': ['A2', 'A3'], 'B': ['B2', 'B3']})\n",
        "#     A   B\n",
        "# 0  A2  B2\n",
        "# 1  A3  B3\n",
        "\n",
        "# Konkatenacja BEZ parametru keys\n",
        "result_no_keys = pd.concat([df1, df2])\n",
        "print(\"Wynik bez 'keys':\")\n",
        "print(result_no_keys)\n",
        "#     A   B\n",
        "# 0  A0  B0\n",
        "# 1  A1  B1\n",
        "# 0  A2  B2  <- Zauważ powtarzające się indeksy 0 i 1\n",
        "# 1  A3  B3\n",
        "\n",
        "print(\"-\" * 20)\n",
        "\n",
        "# Konkatenacja Z parametrem keys\n",
        "result_with_keys = pd.concat([df1, df2], keys=['x', 'y'])\n",
        "print(\"Wynik z 'keys':\")\n",
        "print(result_with_keys)\n",
        "#       A   B\n",
        "# x 0  A0  B0\n",
        "#   1  A1  B1\n",
        "# y 0  A2  B2\n",
        "#   1  A3  B3"
      ],
      "metadata": {
        "id": "RYmbK1x96A6G"
      },
      "execution_count": null,
      "outputs": []
    },
    {
      "cell_type": "code",
      "source": [
        "result_no_keys"
      ],
      "metadata": {
        "id": "kp7-g99H6-Qz"
      },
      "execution_count": null,
      "outputs": []
    },
    {
      "cell_type": "code",
      "source": [
        "result_with_keys"
      ],
      "metadata": {
        "id": "viHEKyWf7Bhk"
      },
      "execution_count": null,
      "outputs": []
    },
    {
      "cell_type": "code",
      "source": [
        "# Resetowanie indeksów\n",
        "df_employees.reset_index(names=\"ID\")"
      ],
      "metadata": {
        "id": "Y0m93_OdyGCP"
      },
      "execution_count": null,
      "outputs": []
    },
    {
      "cell_type": "code",
      "source": [
        "data_1 = {\"id\": [1, 2, 3, 4, 5],\n",
        "          \"name\": [\"Frodo\", \"Gandalf\", \"Legolas\", \"Sauron\", \"Gollum\"],\n",
        "          \"Age\": [50, 1000, 2931, 66000, 589]\n",
        "}\n",
        "\n",
        "data_2 = {\"id\": [1, 3, 5, 6],\n",
        "          \"name\": [\"Frodo\", \"Legolas\", \"Gollum\", \"Aragorn\"],\n",
        "          \"race\": [\"Hobbit\", \"elf\", \"Smeagol\", \"Dunedain\"]}\n",
        "\n",
        "hobbit_1 = pd.DataFrame(data_1)\n",
        "hobbit_2 = pd.DataFrame(data_2)\n",
        "hobbit_1"
      ],
      "metadata": {
        "id": "Em-T17yC9nJh"
      },
      "execution_count": null,
      "outputs": []
    },
    {
      "cell_type": "code",
      "source": [
        "hobbit_2"
      ],
      "metadata": {
        "id": "UbZpHwKRFUEt"
      },
      "execution_count": null,
      "outputs": []
    },
    {
      "cell_type": "code",
      "source": [
        "# pd merge inner\n",
        "pd.merge(hobbit_1, hobbit_2, on=[\"id\", \"name\"])"
      ],
      "metadata": {
        "id": "AQwChq9P7Fvk"
      },
      "execution_count": null,
      "outputs": []
    },
    {
      "cell_type": "code",
      "source": [
        "# pd merge 2 inner\n",
        "# laczy dane z oby df, uwzgledniajac tylko te dane ktore znajduja sie w obu\n",
        "hobbit_1.merge(hobbit_2)"
      ],
      "metadata": {
        "id": "F8wJ2lyt9gAs"
      },
      "execution_count": null,
      "outputs": []
    },
    {
      "cell_type": "code",
      "source": [
        "# pd merge outer\n",
        "# Laczy dane z obu df, uwzgledniajac wszystko\n",
        "pd.merge(hobbit_1, hobbit_2, how='outer', on=['id', 'name'])"
      ],
      "metadata": {
        "id": "9bKCufHD9ksh"
      },
      "execution_count": null,
      "outputs": []
    },
    {
      "cell_type": "code",
      "source": [
        "# pd merge left\n",
        "# Bierze rzeczy z lewego df i dodaje dodatkowe dane bazujac na informacjach z prawego df\n",
        "pd.merge(hobbit_1, hobbit_2, how='left', on=['id', 'name'])"
      ],
      "metadata": {
        "id": "I2OTr_BaHntz"
      },
      "execution_count": null,
      "outputs": []
    },
    {
      "cell_type": "code",
      "source": [
        "# pd merge right\n",
        "pd.merge(hobbit_1, hobbit_2, how='right', on=['id', 'name'])"
      ],
      "metadata": {
        "id": "4CxO9PtsHsaN"
      },
      "execution_count": null,
      "outputs": []
    },
    {
      "cell_type": "code",
      "source": [
        "# pd merge cross\n",
        "# porownuje ze wszystkimi ?\n",
        "hobbit_1.merge(hobbit_2, how='cross')"
      ],
      "metadata": {
        "id": "Eq98xA22H6WO"
      },
      "execution_count": null,
      "outputs": []
    }
  ]
}