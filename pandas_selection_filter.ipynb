{
  "nbformat": 4,
  "nbformat_minor": 0,
  "metadata": {
    "colab": {
      "private_outputs": true,
      "provenance": []
    },
    "kernelspec": {
      "name": "python3",
      "display_name": "Python 3"
    },
    "language_info": {
      "name": "python"
    }
  },
  "cells": [
    {
      "cell_type": "markdown",
      "source": [],
      "metadata": {
        "id": "6XrVtb2O37M5"
      }
    },
    {
      "cell_type": "code",
      "execution_count": null,
      "metadata": {
        "id": "1_24XWpNlDzR"
      },
      "outputs": [],
      "source": [
        "import pandas as pd\n",
        "\n",
        "data = {\n",
        "    \"imie\": [\"Anna\", \"Bartek\", \"Celina\", \"Darek\", \"Ela\", \"Filip\"],\n",
        "    \"wiek\": [23, 35, 29, 42, 22, None],\n",
        "    \"miasto\": [\"Warszawa\", \"Kraków\", \"Warszawa\", \"Poznań\", \"Gdańsk\", \"Kraków\"],\n",
        "    \"punkty\": [89, 75, 95, 65, 80, 70]\n",
        "}\n",
        "\n",
        "df = pd.DataFrame(data)\n",
        "df"
      ]
    },
    {
      "cell_type": "code",
      "source": [
        "# Wybieranie kolumny za pomocą []\n",
        "df['imie']"
      ],
      "metadata": {
        "id": "3AQx7QLJy_zN"
      },
      "execution_count": null,
      "outputs": []
    },
    {
      "cell_type": "code",
      "source": [
        "df.imie"
      ],
      "metadata": {
        "id": "v1joVWBgzFy5"
      },
      "execution_count": null,
      "outputs": []
    },
    {
      "cell_type": "markdown",
      "source": [
        "df.loc"
      ],
      "metadata": {
        "id": "C3h6YFVb35nn"
      }
    },
    {
      "cell_type": "code",
      "source": [
        "# Zwrócenie elementu o indeksie 0\n",
        "df.loc[0]"
      ],
      "metadata": {
        "id": "aCkSzvyIzIXF"
      },
      "execution_count": null,
      "outputs": []
    },
    {
      "cell_type": "code",
      "source": [
        "# Zwrócenie elementu o indeksie 0 i kolumny imie\n",
        "df.loc[0, \"imie\"]"
      ],
      "metadata": {
        "id": "SQVzJFaHzJvZ"
      },
      "execution_count": null,
      "outputs": []
    },
    {
      "cell_type": "code",
      "source": [
        "# Zwrócenie zakresu elementów\n",
        "df.loc[::, \"imie\":\"wiek\"]"
      ],
      "metadata": {
        "id": "anZIOcpc1sng"
      },
      "execution_count": null,
      "outputs": []
    },
    {
      "cell_type": "code",
      "source": [
        "# Zwrocenie warunkowego wyszukania\n",
        "df.loc[df['wiek'] > 35]"
      ],
      "metadata": {
        "id": "OCbilthw17L6"
      },
      "execution_count": null,
      "outputs": []
    },
    {
      "cell_type": "code",
      "source": [
        "# Mieszkańcy warszawy\n",
        "df.loc[df.miasto == \"Warszawa\"]"
      ],
      "metadata": {
        "id": "RXU9TVWQ2C-2"
      },
      "execution_count": null,
      "outputs": []
    },
    {
      "cell_type": "markdown",
      "source": [
        "df.iloc"
      ],
      "metadata": {
        "id": "YlFskbCY39zm"
      }
    },
    {
      "cell_type": "code",
      "source": [
        "# Pierwszy element\n",
        "df.iloc[0]"
      ],
      "metadata": {
        "id": "28f4xPfh2SW0"
      },
      "execution_count": null,
      "outputs": []
    },
    {
      "cell_type": "code",
      "source": [
        "# 3 osoba z DF i 3 kolumna\n",
        "df.iloc[2, 2]"
      ],
      "metadata": {
        "id": "vRDsZ_wE39cN"
      },
      "execution_count": null,
      "outputs": []
    },
    {
      "cell_type": "code",
      "source": [
        "# 2 pierwsze osoby z DF\n",
        "df.iloc[0:2, ::]"
      ],
      "metadata": {
        "id": "g8-93JaW4G0b"
      },
      "execution_count": null,
      "outputs": []
    },
    {
      "cell_type": "markdown",
      "source": [
        "➤ A. Podstawowa selekcja\n",
        "\n",
        "Wybierz kolumnę wiek\n",
        "\n",
        "Wybierz wiersz o indeksie 3\n",
        "\n",
        "Wybierz tylko kolumny imie i miasto"
      ],
      "metadata": {
        "id": "OHHTIOZB7IJb"
      }
    },
    {
      "cell_type": "code",
      "source": [
        "df['wiek']"
      ],
      "metadata": {
        "id": "2gwcMYjf7Ky9"
      },
      "execution_count": null,
      "outputs": []
    },
    {
      "cell_type": "code",
      "source": [
        "df.iloc[3]"
      ],
      "metadata": {
        "id": "nEFRXZgi7Ocu"
      },
      "execution_count": null,
      "outputs": []
    },
    {
      "cell_type": "code",
      "source": [
        "df.loc[::, [\"imie\", \"miasto\"]]"
      ],
      "metadata": {
        "id": "bBJz47py7Q75"
      },
      "execution_count": null,
      "outputs": []
    },
    {
      "cell_type": "markdown",
      "source": [
        "filtrowanie warunkowe"
      ],
      "metadata": {
        "id": "ViuXd26m6--A"
      }
    },
    {
      "cell_type": "code",
      "source": [
        "df[(df[\"punkty\"] > 50) & (df[\"miasto\"] == \"Warszawa\")]"
      ],
      "metadata": {
        "id": "4aEoF7hN4J14"
      },
      "execution_count": null,
      "outputs": []
    },
    {
      "cell_type": "code",
      "source": [
        "df.loc[(df[\"punkty\"] > 50) & (df[\"miasto\"] == \"Warszawa\")]"
      ],
      "metadata": {
        "id": "iylPM4U65QCc"
      },
      "execution_count": null,
      "outputs": []
    },
    {
      "cell_type": "code",
      "source": [
        "df.query(\"punkty > 80\")"
      ],
      "metadata": {
        "id": "iFrVv_2y5c09"
      },
      "execution_count": null,
      "outputs": []
    },
    {
      "cell_type": "code",
      "source": [
        "df[df['punkty'] > 80]"
      ],
      "metadata": {
        "id": "46YSffMD6TPn"
      },
      "execution_count": null,
      "outputs": []
    },
    {
      "cell_type": "markdown",
      "source": [
        "Filtruj osoby, które mają więcej niż 30 lat\n",
        "\n",
        "Filtruj osoby z Warszawa, które mają ponad 80 punktów\n",
        "\n",
        "Użyj query() do uzyskania osób z Krakowa o punktach poniżej 80"
      ],
      "metadata": {
        "id": "8WPRrV6B7ZgX"
      }
    },
    {
      "cell_type": "code",
      "source": [
        "df[df[\"wiek\"] > 30]"
      ],
      "metadata": {
        "id": "2pEt6V2o6q_r"
      },
      "execution_count": null,
      "outputs": []
    },
    {
      "cell_type": "code",
      "source": [
        "df.loc[(df[\"miasto\"] == \"Warszawa\") & (df[\"punkty\"] > 80)]"
      ],
      "metadata": {
        "id": "HOkghwtE7dr8"
      },
      "execution_count": null,
      "outputs": []
    },
    {
      "cell_type": "code",
      "source": [
        "df.query(\"miasto == 'Kraków' and punkty < 80\")"
      ],
      "metadata": {
        "id": "bMSGPPtH7lXv"
      },
      "execution_count": null,
      "outputs": []
    },
    {
      "cell_type": "markdown",
      "source": [
        "operacje logiczne i maski"
      ],
      "metadata": {
        "id": "lMLMr94H7AWF"
      }
    },
    {
      "cell_type": "code",
      "source": [
        "# Sprawdzenie czy są puste wartosci\n",
        "df.isnull()"
      ],
      "metadata": {
        "id": "u2U5bnCs7-rG"
      },
      "execution_count": null,
      "outputs": []
    },
    {
      "cell_type": "code",
      "source": [
        "# Sprawdzenie ile jest Null wartosci w kolumnach\n",
        "df.isnull().sum()"
      ],
      "metadata": {
        "id": "XYGb2Yn4KNqy"
      },
      "execution_count": null,
      "outputs": []
    },
    {
      "cell_type": "code",
      "source": [
        "# Sprawdzenie jaki rzad ma wartosc null\n",
        "df[df[\"wiek\"].isnull()]"
      ],
      "metadata": {
        "id": "VZbQB22yK7sL"
      },
      "execution_count": null,
      "outputs": []
    },
    {
      "cell_type": "code",
      "source": [
        "df.isnull().values.any()"
      ],
      "metadata": {
        "id": "cAFVHQmALPEM"
      },
      "execution_count": null,
      "outputs": []
    },
    {
      "cell_type": "code",
      "source": [
        "# Sprawdzenie, czy w kolumnie miasto jest Warszwa\n",
        "df['miasto'].isin([\"Warszawa\"]).values.any()"
      ],
      "metadata": {
        "id": "CVRG2ROKLkUs"
      },
      "execution_count": null,
      "outputs": []
    },
    {
      "cell_type": "code",
      "source": [
        "# Sprawdzenie indeksow, w ktorych sa imiona ['Filip', 'Anna', 'Wiktoria', 'Konrad']\n",
        "df[df['imie'].isin(['Filip', 'Anna', 'Wiktoria', 'Konrad'])]"
      ],
      "metadata": {
        "id": "F21bLWnpMC1n"
      },
      "execution_count": null,
      "outputs": []
    },
    {
      "cell_type": "code",
      "source": [
        "# Ludzie pomiedzy 18-30 rokiem\n",
        "df[df['wiek'].between(18, 30)]"
      ],
      "metadata": {
        "id": "xwZCd09yMPJz"
      },
      "execution_count": null,
      "outputs": []
    },
    {
      "cell_type": "code",
      "source": [
        "df[~ df['wiek'].between(18, 30)]"
      ],
      "metadata": {
        "id": "WB3weeikNd8y"
      },
      "execution_count": null,
      "outputs": []
    },
    {
      "cell_type": "markdown",
      "source": [
        "df filter\n"
      ],
      "metadata": {
        "id": "i6LO0uW9U5N7"
      }
    },
    {
      "cell_type": "code",
      "source": [
        "# kolumny imie i wiek\n",
        "df.filter(items=[\"imie\", \"wiek\"])"
      ],
      "metadata": {
        "id": "BQJkkqfyNzG3"
      },
      "execution_count": null,
      "outputs": []
    },
    {
      "cell_type": "code",
      "source": [
        "# kolumny, ktore posiadaja w nazwie imi\n",
        "df.filter(like=\"imi\")"
      ],
      "metadata": {
        "id": "C6Pn5UCVWhCr"
      },
      "execution_count": null,
      "outputs": []
    },
    {
      "cell_type": "code",
      "source": [
        "# kolumny, ktore posiadaja i\n",
        "df.filter(regex=\"^w\")"
      ],
      "metadata": {
        "id": "oOAZS0d7WpZp"
      },
      "execution_count": null,
      "outputs": []
    },
    {
      "cell_type": "code",
      "source": [
        "# Wybranie rzędów 0:2\n",
        "df.filter(items=[0,1,2], axis=0)"
      ],
      "metadata": {
        "id": "d4qdUX8nW-Eo"
      },
      "execution_count": null,
      "outputs": []
    },
    {
      "cell_type": "markdown",
      "source": [
        "df.**select_dtypes**"
      ],
      "metadata": {
        "id": "OVbK5ELMaVNO"
      }
    },
    {
      "cell_type": "code",
      "source": [
        "df.select_dtypes(include=[object, float], exclude=[int])"
      ],
      "metadata": {
        "id": "geTPuLH8XXWO"
      },
      "execution_count": null,
      "outputs": []
    },
    {
      "cell_type": "code",
      "source": [
        "import numpy as np\n",
        "df.select_dtypes(include=[np.number])"
      ],
      "metadata": {
        "id": "5utGvie4ax04"
      },
      "execution_count": null,
      "outputs": []
    },
    {
      "cell_type": "code",
      "source": [
        "df.isnull().select_dtypes(include=[bool])"
      ],
      "metadata": {
        "id": "2HBwHAnJa9pa"
      },
      "execution_count": null,
      "outputs": []
    },
    {
      "cell_type": "markdown",
      "source": [
        "df.get()"
      ],
      "metadata": {
        "id": "3DON_6Pkcij5"
      }
    },
    {
      "cell_type": "code",
      "source": [
        "df.get(key = \"imie\")"
      ],
      "metadata": {
        "id": "XD0rXxvCbWM0"
      },
      "execution_count": null,
      "outputs": []
    },
    {
      "cell_type": "code",
      "source": [
        "df.get(key=\"imi\", default=\"Brak\")"
      ],
      "metadata": {
        "id": "E01nxzzvckO6"
      },
      "execution_count": null,
      "outputs": []
    },
    {
      "cell_type": "code",
      "source": [
        "df.get(key=[\"imie\", \"wiek\"], default = \"Brak\")"
      ],
      "metadata": {
        "id": "XvuPuX_pdOn-"
      },
      "execution_count": null,
      "outputs": []
    },
    {
      "cell_type": "code",
      "source": [
        "df.get(key=[\"imie\", \"wiek\", \"wi\"], default = \"Brak\")"
      ],
      "metadata": {
        "id": "IkjJYyR1dYA3"
      },
      "execution_count": null,
      "outputs": []
    },
    {
      "cell_type": "markdown",
      "source": [
        "Wybierz tylko osoby z miastem Warszawa lub Gdańsk\n",
        "\n",
        "Wybierz osoby, które mają punkty pomiędzy 70 a 90\n",
        "\n",
        "Zwróć tylko kolumny: imie, wiek, punkty"
      ],
      "metadata": {
        "id": "wSSgj9xveF4o"
      }
    },
    {
      "cell_type": "code",
      "source": [
        "df[(df['miasto'] == \"Warszawa\") | (df['miasto'] == 'Gdańsk')]"
      ],
      "metadata": {
        "id": "qYwpLMyBdqdf"
      },
      "execution_count": null,
      "outputs": []
    },
    {
      "cell_type": "code",
      "source": [
        "df.query(\"miasto == 'Warszawa' or miasto == 'Gdańsk'\")"
      ],
      "metadata": {
        "id": "8xUKUCfqeP_s"
      },
      "execution_count": null,
      "outputs": []
    },
    {
      "cell_type": "code",
      "source": [
        "df.loc[df['miasto'].isin(['Warszawa', \"Gdańsk\"])]"
      ],
      "metadata": {
        "id": "BCwEmg0seVgc"
      },
      "execution_count": null,
      "outputs": []
    },
    {
      "cell_type": "markdown",
      "source": [
        "Wybierz osoby, które mają punkty pomiędzy 70 a 90"
      ],
      "metadata": {
        "id": "8QLZD4w0ejzG"
      }
    },
    {
      "cell_type": "code",
      "source": [
        "df.loc[df['punkty'].between(70, 90)]"
      ],
      "metadata": {
        "id": "Mm6ADf_Yec_h"
      },
      "execution_count": null,
      "outputs": []
    },
    {
      "cell_type": "markdown",
      "source": [
        "Zwróć tylko kolumny: imie, wiek, punkty"
      ],
      "metadata": {
        "id": "oQ1iTYNPf7MG"
      }
    },
    {
      "cell_type": "code",
      "source": [
        "df.filter(items=[\"imie\", \"wiek\", \"punkty\"], axis=1)"
      ],
      "metadata": {
        "id": "Kf-gPqX_f6Xz"
      },
      "execution_count": null,
      "outputs": []
    },
    {
      "cell_type": "code",
      "source": [],
      "metadata": {
        "id": "eUu-bVwwf_EN"
      },
      "execution_count": null,
      "outputs": []
    }
  ]
}