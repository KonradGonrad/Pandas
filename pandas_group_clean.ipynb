{
  "nbformat": 4,
  "nbformat_minor": 0,
  "metadata": {
    "colab": {
      "private_outputs": true,
      "provenance": []
    },
    "kernelspec": {
      "name": "python3",
      "display_name": "Python 3"
    },
    "language_info": {
      "name": "python"
    }
  },
  "cells": [
    {
      "cell_type": "code",
      "execution_count": null,
      "metadata": {
        "id": "sUC9RpfC-irQ"
      },
      "outputs": [],
      "source": [
        "import pandas as pd\n",
        "import numpy as np\n",
        "\n",
        "data = {\n",
        "    \"Region\": [\"North\", \"South\", \"East\", \"West\", \"North\", \"East\", \"South\", \"West\", \"North\", \"East\"],\n",
        "    \"Sprzedawca\": [\"Anna\", \"Tomasz\", \"Julia\", \"Anna\", \"Tomasz\", \"Julia\", \"Anna\", \"Tomasz\", \"Anna\", \"Julia\"],\n",
        "    \"Produkt\": [\"A\", \"B\", \"A\", \"B\", \"C\", \"A\", \"C\", \"C\", \"B\", \"B\"],\n",
        "    \"Sprzedaż\": [200, 150, np.nan, 250, 180, 220, 210, np.nan, 270, 160],\n",
        "    \"Rok\": [2023, 2023, 2023, 2023, 2024, 2024, 2024, 2024, 2024, 2024],\n",
        "}\n",
        "\n",
        "df_sales = pd.DataFrame(data)\n",
        "df_sales"
      ]
    },
    {
      "cell_type": "code",
      "source": [
        "# Grupowanie\n",
        "df_sales.groupby([\"Rok\"])"
      ],
      "metadata": {
        "id": "WbnYbAcbGw8H"
      },
      "execution_count": null,
      "outputs": []
    },
    {
      "cell_type": "code",
      "source": [
        "# Sprzedaże na przestrzeni roku\n",
        "df_sales.groupby(\"Rok\")['Sprzedaż'].sum()"
      ],
      "metadata": {
        "id": "ZRMO1QXeHk_G"
      },
      "execution_count": null,
      "outputs": []
    },
    {
      "cell_type": "code",
      "source": [
        "# Sprzedaże sprzedawców\n",
        "df_sales.groupby(\"Sprzedawca\")[\"Sprzedaż\"].sum()"
      ],
      "metadata": {
        "id": "37PFzUcQGl3V"
      },
      "execution_count": null,
      "outputs": []
    },
    {
      "cell_type": "code",
      "source": [
        "# Sprzedaże sprzedawcow ze wzgledu na region\n",
        "df_sales.groupby([\"Sprzedawca\", \"Region\"], group_keys=False)[\"Sprzedaż\"].sum()"
      ],
      "metadata": {
        "id": "6CIK3g2qM1ju"
      },
      "execution_count": null,
      "outputs": []
    },
    {
      "cell_type": "code",
      "source": [
        "import pandas as pd\n",
        "\n",
        "# Tworzenie słownika z danymi\n",
        "data_nba = {\n",
        "    'Zawodnik': ['LeBron James', 'Stephen Curry', 'Kevin Durant', 'Giannis Antetokounmpo', 'Nikola Jokic', 'Luka Doncic', 'Joel Embiid', 'Jayson Tatum', 'Damian Lillard', 'Anthony Davis'],\n",
        "    'Drużyna': ['Los Angeles Lakers', 'Golden State Warriors', 'Phoenix Suns', 'Milwaukee Bucks', 'Denver Nuggets', 'Dallas Mavericks', 'Philadelphia 76ers', 'Boston Celtics', 'Milwaukee Bucks', 'Los Angeles Lakers'],\n",
        "    'Pozycja': ['SF', 'PG', 'SF', 'PF', 'C', 'PG', 'C', 'SF', 'PG', 'PF/C'],\n",
        "    'Punkty': [28.9, 29.4, 29.1, 31.1, 24.5, 32.4, 33.1, 30.1, 25.2, 25.9], # Przykładowe średnie punkty na mecz\n",
        "    'Zbiórki': [8.3, 6.1, 6.7, 11.8, 11.8, 8.6, 10.2, 8.8, 4.6, 12.5], # Przykładowe średnie zbiórki na mecz\n",
        "    'Asysty': [6.8, 6.3, 5.0, 5.7, 9.8, 8.0, 4.2, 4.6, 6.9, 2.6]  # Przykładowe średnie asysty na mecz\n",
        "}\n",
        "\n",
        "# Tworzenie obiektu DataFrame\n",
        "df_nba = pd.DataFrame(data_nba)\n",
        "\n",
        "# Wyświetlenie DataFrame\n",
        "df_nba"
      ],
      "metadata": {
        "id": "gv2YGPAMNNSd"
      },
      "execution_count": null,
      "outputs": []
    },
    {
      "cell_type": "code",
      "source": [
        "# Ilosc zawodników\n",
        "df_nba.groupby([\"Drużyna\"]).size()"
      ],
      "metadata": {
        "id": "cEfp-wj0Nx3I"
      },
      "execution_count": null,
      "outputs": []
    },
    {
      "cell_type": "code",
      "source": [
        "import numpy as np\n",
        "df_nba.groupby(by='Pozycja', as_index=True, group_keys=False).agg(Max_Punktow = ('Punkty', \"max\"),\n",
        "                              Min_Punktow = ('Punkty', 'min'),\n",
        "                              Srednia_Punktow = ('Punkty', 'mean'))"
      ],
      "metadata": {
        "id": "Q3X4CdFiN2dA"
      },
      "execution_count": null,
      "outputs": []
    },
    {
      "cell_type": "code",
      "source": [
        "print(f\"Ile jest wartosci null: {len(df_sales['Sprzedaż']) - df_sales['Sprzedaż'].count()}\")"
      ],
      "metadata": {
        "id": "Cpskq9fwOGt1"
      },
      "execution_count": null,
      "outputs": []
    },
    {
      "cell_type": "markdown",
      "source": [
        "usuwanie"
      ],
      "metadata": {
        "id": "OKPsY5bIXL63"
      }
    },
    {
      "cell_type": "code",
      "source": [
        "df_sales"
      ],
      "metadata": {
        "id": "jputRT0DVDAm"
      },
      "execution_count": null,
      "outputs": []
    },
    {
      "cell_type": "code",
      "source": [
        "df_sales.drop(\"Produkt\", axis = 1)"
      ],
      "metadata": {
        "id": "fVtj6xa_XOr3"
      },
      "execution_count": null,
      "outputs": []
    },
    {
      "cell_type": "code",
      "source": [
        "df_sales.drop(labels=[0], axis=0)"
      ],
      "metadata": {
        "id": "1uT5NJ5vXUwo"
      },
      "execution_count": null,
      "outputs": []
    },
    {
      "cell_type": "code",
      "source": [
        "df_sales"
      ],
      "metadata": {
        "id": "NL4okKvtXSHN"
      },
      "execution_count": null,
      "outputs": []
    },
    {
      "cell_type": "code",
      "source": [
        "df_sales.dropna()"
      ],
      "metadata": {
        "id": "-MrYUFuOXTBr"
      },
      "execution_count": null,
      "outputs": []
    },
    {
      "cell_type": "code",
      "source": [
        "df_sales"
      ],
      "metadata": {
        "id": "P46q6YlkXsV0"
      },
      "execution_count": null,
      "outputs": []
    },
    {
      "cell_type": "code",
      "source": [
        "df_sales['Sprzedaż'].fillna(df_sales['Sprzedaż'].mean())"
      ],
      "metadata": {
        "id": "SjkFjFoSX6zM"
      },
      "execution_count": null,
      "outputs": []
    },
    {
      "cell_type": "code",
      "source": [
        "df_sales['Sprzedaż'].mean()"
      ],
      "metadata": {
        "id": "vOMRfEw8fVT-"
      },
      "execution_count": null,
      "outputs": []
    },
    {
      "cell_type": "code",
      "source": [
        "df_sales['Sprzedawca'].duplicated()"
      ],
      "metadata": {
        "id": "f3B2wWJOf3_P"
      },
      "execution_count": null,
      "outputs": []
    },
    {
      "cell_type": "code",
      "source": [
        "df_sales['Sprzedawca'].drop_duplicates()"
      ],
      "metadata": {
        "id": "EcZNfOSgnC4P"
      },
      "execution_count": null,
      "outputs": []
    },
    {
      "cell_type": "code",
      "source": [
        "df_sales"
      ],
      "metadata": {
        "id": "w6weljSSopU7"
      },
      "execution_count": null,
      "outputs": []
    },
    {
      "cell_type": "markdown",
      "source": [
        "🧹 Czyszczenie danych\n",
        "- Usuń wiersze z brakującą wartością sprzedaży.\n",
        "\n",
        "- Wypełnij brakujące wartości sprzedaży medianą z kolumny.\n",
        "\n",
        "- Usuń wszystkie duplikaty w danych.\n",
        "\n",
        "📊 Grupowanie i agregacja\n",
        "- Oblicz średnią sprzedaż dla każdego regionu.\n",
        "\n",
        "- Podsumuj łączną sprzedaż każdego sprzedawcy.\n",
        "\n",
        "- Pokaż średnią i sumę sprzedaży dla każdego produktu.\n",
        "\n",
        "- Ile produktów każdego typu sprzedano w 2024 roku?\n",
        "\n",
        "🔄 Zaawansowane\n",
        "- Dla każdego sprzedawcy pokaż najwyższą sprzedaż, jaką osiągnął.\n",
        "\n",
        "- Dla każdego regionu oblicz średnią sprzedaż tylko dla produktu \"Laptop\".\n",
        "\n",
        "- Policz ile razy każdy sprzedawca sprzedał produkt o wartości powyżej 200.\n",
        "\n"
      ],
      "metadata": {
        "id": "u3wR9BzKpSBC"
      }
    },
    {
      "cell_type": "code",
      "source": [
        "import pandas as pd\n",
        "import numpy as np\n",
        "\n",
        "data = {\n",
        "    \"Sprzedawca\": [\"Anna\", \"Bartek\", \"Anna\", \"Daniel\", \"Anna\", \"Daniel\", \"Bartek\", \"Daniel\", \"Anna\", \"Bartek\", \"Daniel\"],\n",
        "    \"Produkt\": [\"Laptop\", \"Monitor\", \"Monitor\", \"Laptop\", \"Laptop\", \"Tablet\", \"Monitor\", \"Tablet\", \"Tablet\", \"Monitor\", \"Tablet\"],\n",
        "    \"Sprzedaż\": [200, 150, 170, 220, np.nan, 210, 150, 230, 210, 150, np.nan],\n",
        "    \"Region\": [\"Północ\", \"Południe\", \"Północ\", \"Wschód\", \"Północ\", \"Wschód\", \"Południe\", \"Wschód\", \"Północ\", \"Południe\", \"Wschód\"],\n",
        "    \"Rok\": [2023, 2023, 2024, 2023, 2024, 2023, 2024, 2024, 2024, 2023, 2024]\n",
        "}\n",
        "\n",
        "df = pd.DataFrame(data)\n",
        "df"
      ],
      "metadata": {
        "id": "NYK5FY87orMR"
      },
      "execution_count": null,
      "outputs": []
    },
    {
      "cell_type": "code",
      "source": [
        "# Usuń wiersze z brakującą wartością sprzedaży.\n",
        "df.dropna() # Usuniecie 4 wiersza i 10"
      ],
      "metadata": {
        "id": "yghRusixp2GO"
      },
      "execution_count": null,
      "outputs": []
    },
    {
      "cell_type": "code",
      "source": [
        "# Wypełnij brakujące wartości sprzedaży medianą z kolumny.\n",
        "df.fillna(df['Sprzedaż'].median())"
      ],
      "metadata": {
        "id": "N43J-zK7p6aD"
      },
      "execution_count": null,
      "outputs": []
    },
    {
      "cell_type": "code",
      "source": [
        "# Usuń wszystkie duplikaty w danych.\n",
        "df.drop_duplicates(keep='first')"
      ],
      "metadata": {
        "id": "0R6V3aGtqJDU"
      },
      "execution_count": null,
      "outputs": []
    },
    {
      "cell_type": "code",
      "source": [
        "# Oblicz średnią sprzedaż dla każdego regionu.\n",
        "df.groupby(by=['Region'])['Sprzedaż'].mean()"
      ],
      "metadata": {
        "id": "6vkMMXMUqLJP"
      },
      "execution_count": null,
      "outputs": []
    },
    {
      "cell_type": "code",
      "source": [
        "# Podsumuj łączną sprzedaż każdego sprzedawcy.\n",
        "df.groupby(by=[\"Sprzedawca\"])['Sprzedaż'].sum()"
      ],
      "metadata": {
        "id": "Ro7IXDiHqz_G"
      },
      "execution_count": null,
      "outputs": []
    },
    {
      "cell_type": "code",
      "source": [
        "# Pokaż średnią i sumę sprzedaży dla każdego produktu.\n",
        "df.groupby(by=['Produkt']).agg(Srednia = ('Sprzedaż', 'mean'), Suma = ('Sprzedaż', 'sum'))"
      ],
      "metadata": {
        "id": "JMT-Tmo2rBYp"
      },
      "execution_count": null,
      "outputs": []
    },
    {
      "cell_type": "code",
      "source": [
        "# Ile produktów każdego typu sprzedano w 2024 roku?\n",
        "df.groupby(by=['Produkt'])['Sprzedaż'].count()"
      ],
      "metadata": {
        "id": "69JZ9d2UrXdn"
      },
      "execution_count": null,
      "outputs": []
    },
    {
      "cell_type": "code",
      "source": [
        "# Dla każdego sprzedawcy pokaż najwyższą sprzedaż, jaką osiągnął.\n",
        "df.groupby(by=['Sprzedawca'])['Sprzedaż'].max()"
      ],
      "metadata": {
        "id": "lo8SFLUbsCY6"
      },
      "execution_count": null,
      "outputs": []
    },
    {
      "cell_type": "code",
      "source": [
        "# Dla każdego regionu oblicz średnią sprzedaż tylko dla produktu \"Laptop\".\n",
        "df.loc[df['Produkt'] == 'Laptop'].groupby(by=['Region'])['Sprzedaż'].mean()"
      ],
      "metadata": {
        "id": "3ggmkufTsNYe"
      },
      "execution_count": null,
      "outputs": []
    },
    {
      "cell_type": "code",
      "source": [
        "# Policz ile razy każdy sprzedawca sprzedał produkt o wartości powyżej 200.\n",
        "df.loc[df['Sprzedaż'] > 200].groupby(by=['Sprzedawca'])['Sprzedaż'].count()"
      ],
      "metadata": {
        "id": "sJlsXNMFsSzy"
      },
      "execution_count": null,
      "outputs": []
    }
  ]
}