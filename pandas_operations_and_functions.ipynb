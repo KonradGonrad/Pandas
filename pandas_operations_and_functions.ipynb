{
  "nbformat": 4,
  "nbformat_minor": 0,
  "metadata": {
    "colab": {
      "private_outputs": true,
      "provenance": []
    },
    "kernelspec": {
      "name": "python3",
      "display_name": "Python 3"
    },
    "language_info": {
      "name": "python"
    }
  },
  "cells": [
    {
      "cell_type": "code",
      "execution_count": null,
      "metadata": {
        "id": "aEi3-ptbUMbl"
      },
      "outputs": [],
      "source": [
        "import pandas as pd\n",
        "import numpy as np\n",
        "\n",
        "df = pd.DataFrame({\n",
        "    \"imie\": [\"Anna\", \"Tomek\", \"Kasia\", \"Marek\", \"Julia\"],\n",
        "    \"wiek\": [23, 35, 29, 41, 22],\n",
        "    \"miasto\": [\"Warszawa\", \"Kraków\", \"Gdańsk\", \"Warszawa\", \"Poznań\"],\n",
        "    \"pensja\": [4500, 5600, 4900, 6200, 4300],\n",
        "    \"premia\": [500, 700, 600, 800, 400],\n",
        "    \"etat\": [\"pełny\", \"pełny\", \"część\", \"pełny\", \"część\"]\n",
        "})\n",
        "df"
      ]
    },
    {
      "cell_type": "code",
      "source": [
        "# + 5 lat\n",
        "df['wiek'] + 5"
      ],
      "metadata": {
        "id": "_LYsWYjLUr_f"
      },
      "execution_count": null,
      "outputs": []
    },
    {
      "cell_type": "code",
      "source": [
        "# Premia x2\n",
        "df['premia'] * 2"
      ],
      "metadata": {
        "id": "wFyXjuqgX-tL"
      },
      "execution_count": null,
      "outputs": []
    },
    {
      "cell_type": "code",
      "source": [
        "# Suma pensji i premii\n",
        "df['przychod'] = df['pensja'] + df['premia']\n",
        "df"
      ],
      "metadata": {
        "id": "RjLZPYP-Xx9o"
      },
      "execution_count": null,
      "outputs": []
    },
    {
      "cell_type": "code",
      "source": [
        "# Sortowanie\n",
        "df['miasto'].sort_values(ascending=[True])"
      ],
      "metadata": {
        "id": "vOGZ6mkxXcu1"
      },
      "execution_count": null,
      "outputs": []
    },
    {
      "cell_type": "code",
      "source": [
        "# funkcja abs\n",
        "df.loc[0, \"pensja\"] = -4500\n",
        "df['pensja'].abs()"
      ],
      "metadata": {
        "id": "PC_N9glRXXmU"
      },
      "execution_count": null,
      "outputs": []
    },
    {
      "cell_type": "code",
      "source": [
        "# df.apply\n",
        "df['vat'] = df.apply(lambda row: row['przychod'] * 0.23, axis=1)"
      ],
      "metadata": {
        "id": "8e837EccYM-6"
      },
      "execution_count": null,
      "outputs": []
    },
    {
      "cell_type": "code",
      "source": [],
      "metadata": {
        "id": "-6DwfuZXZwCJ"
      },
      "execution_count": null,
      "outputs": []
    },
    {
      "cell_type": "code",
      "source": [
        "data = {\"First\": [0.5, 3.4, 2.1, 4.6, 2.6],\n",
        "        \"Second\": [1, 2.3, 2.9, 0.4, 3.2]}\n",
        "df_round =pd.DataFrame(data)\n",
        "df_round"
      ],
      "metadata": {
        "id": "l2ub_Gd_Y56S"
      },
      "execution_count": null,
      "outputs": []
    },
    {
      "cell_type": "code",
      "source": [
        "# funkcja round\n",
        "df_round['result'] = df_round.apply(lambda row: row['First'] + row['Second'], axis=1)\n",
        "df_round['rounded_result'] = df_round['result'].round(0)\n",
        "df_round"
      ],
      "metadata": {
        "id": "810R6SFRZ-zc"
      },
      "execution_count": null,
      "outputs": []
    },
    {
      "cell_type": "code",
      "source": [
        "# df sum\n",
        "print(f\"łączny wiek osob to {df['wiek'].sum()} lat.\")"
      ],
      "metadata": {
        "id": "EWoV32-KLPA3"
      },
      "execution_count": null,
      "outputs": []
    },
    {
      "cell_type": "markdown",
      "source": [
        "df.replace"
      ],
      "metadata": {
        "id": "ceYhAvDOS_74"
      }
    },
    {
      "cell_type": "code",
      "source": [
        "# df replace\n",
        "df.replace(to_replace=['Anna'], value=['Hania'])\n",
        "df"
      ],
      "metadata": {
        "id": "gl052h58bjN0"
      },
      "execution_count": null,
      "outputs": []
    },
    {
      "cell_type": "markdown",
      "source": [
        "funkcje agregujace"
      ],
      "metadata": {
        "id": "B9qnpfoyTHWi"
      }
    },
    {
      "cell_type": "code",
      "source": [
        "print(f\"Suma lat wszystkich osob to: {df['wiek'].sum(axis=0)} lat\")\n",
        "print(f\"Sredni przychod w grupie badanych to {df['przychod'].mean()}. Natomiast mediana to {df['przychod'].median()}\")\n",
        "print(f\"Maksymalna premia wyniosla {df['premia'].max()} i dostal ją {df.loc[df['premia'] == df['premia'].max()].iloc[0, 0]}\")"
      ],
      "metadata": {
        "id": "vfNl7nfAQtEu"
      },
      "execution_count": null,
      "outputs": []
    },
    {
      "cell_type": "code",
      "source": [
        "df['miasto'].value_counts(normalize=True,\n",
        "                          sort = True,\n",
        "                          ascending = True)"
      ],
      "metadata": {
        "id": "SZ1aKGEfRjph"
      },
      "execution_count": null,
      "outputs": []
    },
    {
      "cell_type": "code",
      "source": [
        "df['wiek'].value_counts(bins=5)"
      ],
      "metadata": {
        "id": "imzAAb4yT7sF"
      },
      "execution_count": null,
      "outputs": []
    },
    {
      "cell_type": "code",
      "source": [
        "df['wiek'].agg([min, max, \"median\"])"
      ],
      "metadata": {
        "id": "FyYQiRXVOrKi"
      },
      "execution_count": null,
      "outputs": []
    },
    {
      "cell_type": "code",
      "source": [
        "df.agg({\"wiek\": [min, max, \"median\"], \"przychod\": [min, max]})"
      ],
      "metadata": {
        "id": "IVJwJDBBPayl"
      },
      "execution_count": null,
      "outputs": []
    },
    {
      "cell_type": "code",
      "source": [
        "print(f\"W kolumnie miasto jest {df['miasto'].value_counts().sum() - df['miasto'].nunique()} wartość powtarzająca się\")\n",
        "print(df['miasto'].nunique())"
      ],
      "metadata": {
        "id": "0N54jv88QiHM"
      },
      "execution_count": null,
      "outputs": []
    },
    {
      "cell_type": "code",
      "source": [
        "import pandas as pd\n",
        "\n",
        "df = pd.DataFrame({\n",
        "    \"imie\": [\"Anna\", \"Tomek\", \"Kasia\", \"Marek\", \"Julia\"],\n",
        "    \"wiek\": [23, 35, 29, 41, 22],\n",
        "    \"miasto\": [\"Warszawa\", \"Kraków\", \"Gdańsk\", \"Warszawa\", \"Poznań\"],\n",
        "    \"pensja\": [4500, 5600, 4900, 6200, 4300],\n",
        "    \"premia\": [500, 700, 600, 800, 400],\n",
        "    \"etat\": [\"pełny\", \"pełny\", \"część\", \"pełny\", \"część\"]\n",
        "})"
      ],
      "metadata": {
        "id": "bRPkcLuiRa71"
      },
      "execution_count": null,
      "outputs": []
    },
    {
      "cell_type": "markdown",
      "source": [
        ":\n",
        "\n",
        "🔹 1. Obliczenia i nowe kolumny:\n",
        "- Dodaj nową kolumnę wynagrodzenie_brutto, będącą sumą pensji i premii powiększoną o 20% (podatek i składki).\n",
        "\n",
        "- Dodaj kolumnę wiek_za_10_lat, obliczoną za pomocą apply() i funkcji lambda.\n",
        "\n",
        "🔹 2. Przekształcenia danych:\n",
        "- Zamień wartości w kolumnie etat na wartości binarne (pełny → 1, część → 0) przy użyciu map().\n",
        "\n",
        "- Zamień nazwę miasta „Warszawa” na „WAW” w kolumnie miasto za pomocą replace().\n",
        "\n",
        "🔹 3. Agregacje i podsumowania:\n",
        "- Oblicz średnie wynagrodzenie brutto w całej firmie.\n",
        "\n",
        "- Podaj maksymalną premię.\n",
        "\n",
        "- Policz, ile osób pracuje w pełnym wymiarze (etat).\n",
        "\n",
        "🔹 4. Ekstra (opcjonalnie):\n",
        "- Za pomocą agg() podaj min, max, mean dla kolumny wiek.\n",
        "\n",
        "- Zlicz ilu pracowników mieszka w każdym z miast (value_counts()).\n",
        "\n"
      ],
      "metadata": {
        "id": "q4cwq_5FXaH_"
      }
    },
    {
      "cell_type": "code",
      "source": [
        "# Dodaj nową kolumnę wynagrodzenie_brutto, będącą sumą pensji i premii powiększoną o 20% (podatek i składki).\n",
        "df['wynagrodzenie_brutto'] = (df['pensja'] + df['premia']) * 1.2"
      ],
      "metadata": {
        "id": "eqprJyflXXKQ"
      },
      "execution_count": null,
      "outputs": []
    },
    {
      "cell_type": "code",
      "source": [
        "# Dodaj kolumnę wiek_za_10_lat, obliczoną za pomocą apply() i funkcji lambda.\n",
        "df['wiek_za_10_lat'] = df.apply(lambda row: row['wiek'] + 10, axis=1)"
      ],
      "metadata": {
        "id": "TfVlQEM2Xkez"
      },
      "execution_count": null,
      "outputs": []
    },
    {
      "cell_type": "code",
      "source": [
        "# Zamień wartości w kolumnie etat na wartości binarne (pełny → 1, część → 0) przy użyciu map().\n",
        "df['etat'] = df['etat'].map({\"pełny\": 1, \"część\": 0})\n",
        "df"
      ],
      "metadata": {
        "id": "J2m_sNfOXlJ0"
      },
      "execution_count": null,
      "outputs": []
    },
    {
      "cell_type": "code",
      "source": [
        "# Zamień nazwę miasta „Warszawa” na „WAW” w kolumnie miasto za pomocą replace().\n",
        "df.replace(to_replace=[\"Warszawa\"], value=[\"WAW\"])"
      ],
      "metadata": {
        "id": "C9LnY3O5Yu_-"
      },
      "execution_count": null,
      "outputs": []
    },
    {
      "cell_type": "code",
      "source": [
        "# Oblicz średnie wynagrodzenie brutto w całej firmie.\n",
        "# Podaj maksymalną premię.\n",
        "# Policz, ile osób pracuje w pełnym wymiarze (etat).\n",
        "\n",
        "\n",
        "\n",
        "print(f\"Średnie wynagrodzenie w firmie wynosi {df['wynagrodzenie_brutto'].mean()}.\")\n",
        "print(f\"Tym samym maksymalna pensja wynosi {df['premia'].max()}\")\n",
        "print(f\"Natomiast w pełnym wymiarze pracy pracuje {df['etat'].value_counts()[1]} osoby, a w częściwym {len(df['etat']) - df['etat'].value_counts()[1]} osoby.\")"
      ],
      "metadata": {
        "id": "Pc3QF7ERavfY"
      },
      "execution_count": null,
      "outputs": []
    },
    {
      "cell_type": "code",
      "source": [
        "# Za pomocą agg() podaj min, max, mean dla kolumny wiek.\n",
        "df['wiek'].agg([min, max, 'mean', 'median'])"
      ],
      "metadata": {
        "id": "dzh3J1KFbrpZ"
      },
      "execution_count": null,
      "outputs": []
    },
    {
      "cell_type": "code",
      "source": [
        "# Zlicz ilu pracowników mieszka w każdym z miast (value_counts()).\n",
        "df['miasto'].value_counts()"
      ],
      "metadata": {
        "id": "DBlUewpI9uKP"
      },
      "execution_count": null,
      "outputs": []
    },
    {
      "cell_type": "code",
      "source": [],
      "metadata": {
        "id": "bDMoUViL96SU"
      },
      "execution_count": null,
      "outputs": []
    }
  ]
}