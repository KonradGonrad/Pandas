{
  "cells": [
    {
      "cell_type": "markdown",
      "metadata": {
        "id": "-jBtC0JTRR2Y"
      },
      "source": [
        "# Mini project\n",
        "### Tasks:\n",
        "\n",
        "- Etap 1: Wczytaj dane, sprawdź ich strukturę i wykonaj wstępną eksplorację.\n",
        "- Etap 2: filtruj dane sprzedażowe wg wartości i regionu\n",
        "- Etap 3: policz metryki (np. średni zysk, liczba transakcji) dla wybranych kolumn\n",
        "- Etap 4: oczyść dane klienta – brakujące dane, duplikaty, błędy\n",
        "- Etap 5: scal kilka źródeł w jedną tabelę (np. zamówienia + klienci)\n",
        "\n",
        "Wszystkie kroki, bedą realizowane na poniższym datasetcie."
      ]
    },
    {
      "cell_type": "code",
      "execution_count": 63,
      "metadata": {
        "id": "RscFoRUhRBhK"
      },
      "outputs": [],
      "source": [
        "# Dataset\n",
        "\n",
        "import pandas as pd\n",
        "\n",
        "# Dane sprzedażowe\n",
        "df_sales = pd.DataFrame({\n",
        "    'ID': [101, 102, 103, 104, 105, 106],\n",
        "    'Sprzedawca': ['Anna', 'Bartek', 'Anna', 'Kasia', 'Marek', 'Bartek'],\n",
        "    'Produkt': ['Laptop', 'Tablet', 'Smartfon', 'Laptop', 'Tablet', 'Laptop'],\n",
        "    'Region': ['Północ', 'Południe', 'Północ', 'Zachód', 'Wschód', 'Południe'],\n",
        "    'Sprzedaż': [3000, 1500, 2200, 2700, 1800, 3100],\n",
        "    'Klient_ID': [1, 2, 1, 3, 4, 2]\n",
        "})\n",
        "\n",
        "# Dane klientów\n",
        "df_clients = pd.DataFrame({\n",
        "    'Klient_ID': [1, 2, 3, 4],\n",
        "    'Nazwa': ['Firma A', 'Firma B', 'Firma C', 'Firma D'],\n",
        "    'Miasto': [\"Warszawa\", 'Kraków', 'Gdańsk', 'Poznań'],\n",
        "    'Branża': ['IT', 'Finanse', 'Edukacja', 'Budownictwo']\n",
        "})"
      ]
    },
    {
      "cell_type": "markdown",
      "metadata": {},
      "source": [
        "---"
      ]
    },
    {
      "cell_type": "markdown",
      "metadata": {
        "id": "2zJYQNgWTjzU"
      },
      "source": [
        "### Data exploration"
      ]
    },
    {
      "cell_type": "code",
      "execution_count": 64,
      "metadata": {},
      "outputs": [
        {
          "data": {
            "text/html": [
              "<div>\n",
              "<style scoped>\n",
              "    .dataframe tbody tr th:only-of-type {\n",
              "        vertical-align: middle;\n",
              "    }\n",
              "\n",
              "    .dataframe tbody tr th {\n",
              "        vertical-align: top;\n",
              "    }\n",
              "\n",
              "    .dataframe thead th {\n",
              "        text-align: right;\n",
              "    }\n",
              "</style>\n",
              "<table border=\"1\" class=\"dataframe\">\n",
              "  <thead>\n",
              "    <tr style=\"text-align: right;\">\n",
              "      <th></th>\n",
              "      <th>ID</th>\n",
              "      <th>Sprzedawca</th>\n",
              "      <th>Produkt</th>\n",
              "      <th>Region</th>\n",
              "      <th>Sprzedaż</th>\n",
              "      <th>Klient_ID</th>\n",
              "    </tr>\n",
              "  </thead>\n",
              "  <tbody>\n",
              "    <tr>\n",
              "      <th>0</th>\n",
              "      <td>101</td>\n",
              "      <td>Anna</td>\n",
              "      <td>Laptop</td>\n",
              "      <td>Północ</td>\n",
              "      <td>3000</td>\n",
              "      <td>1</td>\n",
              "    </tr>\n",
              "    <tr>\n",
              "      <th>1</th>\n",
              "      <td>102</td>\n",
              "      <td>Bartek</td>\n",
              "      <td>Tablet</td>\n",
              "      <td>Południe</td>\n",
              "      <td>1500</td>\n",
              "      <td>2</td>\n",
              "    </tr>\n",
              "    <tr>\n",
              "      <th>2</th>\n",
              "      <td>103</td>\n",
              "      <td>Anna</td>\n",
              "      <td>Smartfon</td>\n",
              "      <td>Północ</td>\n",
              "      <td>2200</td>\n",
              "      <td>1</td>\n",
              "    </tr>\n",
              "    <tr>\n",
              "      <th>3</th>\n",
              "      <td>104</td>\n",
              "      <td>Kasia</td>\n",
              "      <td>Laptop</td>\n",
              "      <td>Zachód</td>\n",
              "      <td>2700</td>\n",
              "      <td>3</td>\n",
              "    </tr>\n",
              "    <tr>\n",
              "      <th>4</th>\n",
              "      <td>105</td>\n",
              "      <td>Marek</td>\n",
              "      <td>Tablet</td>\n",
              "      <td>Wschód</td>\n",
              "      <td>1800</td>\n",
              "      <td>4</td>\n",
              "    </tr>\n",
              "    <tr>\n",
              "      <th>5</th>\n",
              "      <td>106</td>\n",
              "      <td>Bartek</td>\n",
              "      <td>Laptop</td>\n",
              "      <td>Południe</td>\n",
              "      <td>3100</td>\n",
              "      <td>2</td>\n",
              "    </tr>\n",
              "  </tbody>\n",
              "</table>\n",
              "</div>"
            ],
            "text/plain": [
              "    ID Sprzedawca   Produkt    Region  Sprzedaż  Klient_ID\n",
              "0  101       Anna    Laptop    Północ      3000          1\n",
              "1  102     Bartek    Tablet  Południe      1500          2\n",
              "2  103       Anna  Smartfon    Północ      2200          1\n",
              "3  104      Kasia    Laptop    Zachód      2700          3\n",
              "4  105      Marek    Tablet    Wschód      1800          4\n",
              "5  106     Bartek    Laptop  Południe      3100          2"
            ]
          },
          "execution_count": 64,
          "metadata": {},
          "output_type": "execute_result"
        }
      ],
      "source": [
        "df_sales"
      ]
    },
    {
      "cell_type": "code",
      "execution_count": 65,
      "metadata": {},
      "outputs": [
        {
          "data": {
            "text/html": [
              "<div>\n",
              "<style scoped>\n",
              "    .dataframe tbody tr th:only-of-type {\n",
              "        vertical-align: middle;\n",
              "    }\n",
              "\n",
              "    .dataframe tbody tr th {\n",
              "        vertical-align: top;\n",
              "    }\n",
              "\n",
              "    .dataframe thead th {\n",
              "        text-align: right;\n",
              "    }\n",
              "</style>\n",
              "<table border=\"1\" class=\"dataframe\">\n",
              "  <thead>\n",
              "    <tr style=\"text-align: right;\">\n",
              "      <th></th>\n",
              "      <th>Klient_ID</th>\n",
              "      <th>Nazwa</th>\n",
              "      <th>Miasto</th>\n",
              "      <th>Branża</th>\n",
              "    </tr>\n",
              "  </thead>\n",
              "  <tbody>\n",
              "    <tr>\n",
              "      <th>0</th>\n",
              "      <td>1</td>\n",
              "      <td>Firma A</td>\n",
              "      <td>Warszawa</td>\n",
              "      <td>IT</td>\n",
              "    </tr>\n",
              "    <tr>\n",
              "      <th>1</th>\n",
              "      <td>2</td>\n",
              "      <td>Firma B</td>\n",
              "      <td>Kraków</td>\n",
              "      <td>Finanse</td>\n",
              "    </tr>\n",
              "    <tr>\n",
              "      <th>2</th>\n",
              "      <td>3</td>\n",
              "      <td>Firma C</td>\n",
              "      <td>Gdańsk</td>\n",
              "      <td>Edukacja</td>\n",
              "    </tr>\n",
              "    <tr>\n",
              "      <th>3</th>\n",
              "      <td>4</td>\n",
              "      <td>Firma D</td>\n",
              "      <td>Poznań</td>\n",
              "      <td>Budownictwo</td>\n",
              "    </tr>\n",
              "  </tbody>\n",
              "</table>\n",
              "</div>"
            ],
            "text/plain": [
              "   Klient_ID    Nazwa    Miasto       Branża\n",
              "0          1  Firma A  Warszawa           IT\n",
              "1          2  Firma B    Kraków      Finanse\n",
              "2          3  Firma C    Gdańsk     Edukacja\n",
              "3          4  Firma D    Poznań  Budownictwo"
            ]
          },
          "execution_count": 65,
          "metadata": {},
          "output_type": "execute_result"
        }
      ],
      "source": [
        "df_clients"
      ]
    },
    {
      "cell_type": "code",
      "execution_count": 66,
      "metadata": {
        "id": "vYpKNYcvTHzu"
      },
      "outputs": [
        {
          "name": "stdout",
          "output_type": "stream",
          "text": [
            "<class 'pandas.core.frame.DataFrame'>\n",
            "RangeIndex: 6 entries, 0 to 5\n",
            "Data columns (total 6 columns):\n",
            " #   Column      Non-Null Count  Dtype \n",
            "---  ------      --------------  ----- \n",
            " 0   ID          6 non-null      int64 \n",
            " 1   Sprzedawca  6 non-null      object\n",
            " 2   Produkt     6 non-null      object\n",
            " 3   Region      6 non-null      object\n",
            " 4   Sprzedaż    6 non-null      int64 \n",
            " 5   Klient_ID   6 non-null      int64 \n",
            "dtypes: int64(3), object(3)"
          ]
        }
      ],
      "source": [
        "df_sales.info(verbose=True,\n",
        "              memory_usage=False,\n",
        "              show_counts=True)\n",
        "\n"
      ]
    },
    {
      "cell_type": "code",
      "execution_count": 67,
      "metadata": {
        "id": "6nrapdlCTd5M"
      },
      "outputs": [
        {
          "name": "stdout",
          "output_type": "stream",
          "text": [
            "<class 'pandas.core.frame.DataFrame'>\n",
            "RangeIndex: 4 entries, 0 to 3\n",
            "Data columns (total 4 columns):\n",
            " #   Column     Non-Null Count  Dtype \n",
            "---  ------     --------------  ----- \n",
            " 0   Klient_ID  4 non-null      int64 \n",
            " 1   Nazwa      4 non-null      object\n",
            " 2   Miasto     4 non-null      object\n",
            " 3   Branża     4 non-null      object\n",
            "dtypes: int64(1), object(3)"
          ]
        }
      ],
      "source": [
        "df_clients.info(verbose=True,\n",
        "                memory_usage=False,\n",
        "                show_counts=True)"
      ]
    },
    {
      "cell_type": "code",
      "execution_count": 82,
      "metadata": {
        "id": "BH-Da_FnTry6"
      },
      "outputs": [
        {
          "data": {
            "text/plain": [
              "count       6.000000\n",
              "mean     2383.333333\n",
              "std       655.489639\n",
              "min      1500.000000\n",
              "25%      1900.000000\n",
              "50%      2450.000000\n",
              "75%      2925.000000\n",
              "max      3100.000000\n",
              "Name: Sprzedaż, dtype: float64"
            ]
          },
          "execution_count": 82,
          "metadata": {},
          "output_type": "execute_result"
        }
      ],
      "source": [
        "df_sprzedaz = df_sales['Sprzedaż'].describe(percentiles=[0.25, 0.5, 0.75])\n",
        "df_sprzedaz"
      ]
    },
    {
      "cell_type": "code",
      "execution_count": 69,
      "metadata": {},
      "outputs": [],
      "source": [
        "# Usseles for that dataframe\n",
        "# df_clients.describe()"
      ]
    },
    {
      "cell_type": "code",
      "execution_count": 70,
      "metadata": {},
      "outputs": [
        {
          "name": "stdout",
          "output_type": "stream",
          "text": [
            "There are:\n",
            "    - 3 unique products: ['Laptop', 'Tablet', 'Smartfon']\n",
            "    - 4 unique regions: ['Północ', 'Południe', 'Zachód', 'Wschód']\n",
            "    - 4 unique sellers: ['Anna', 'Bartek', 'Kasia', 'Marek']\n",
            "    - 4 unique industries: ['IT', 'Finanse', 'Edukacja', 'Budownictwo']\n",
            "\n"
          ]
        }
      ],
      "source": [
        "unique_products = df_sales[\"Produkt\"].unique()\n",
        "unique_region = df_sales['Region'].unique()\n",
        "unique_industry = df_clients['Branża'].unique()\n",
        "unique_seller = df_sales['Sprzedawca'].unique()\n",
        "\n",
        "print(f\"\"\"There are:\n",
        "    - {len(unique_products)} unique products: {list(unique_products)}\n",
        "    - {len(unique_region)} unique regions: {list(unique_region)}\n",
        "    - {len(unique_seller)} unique sellers: {list(unique_seller)}\n",
        "    - {len(unique_industry)} unique industries: {list(unique_industry)}\n",
        "\"\"\")"
      ]
    },
    {
      "cell_type": "code",
      "execution_count": 71,
      "metadata": {},
      "outputs": [
        {
          "name": "stdout",
          "output_type": "stream",
          "text": [
            "In the dataframe \"df_sales\" there are not null value.\n",
            "In the dataframe \"df_clients\" there are not null value.\"\n",
            "      \n"
          ]
        }
      ],
      "source": [
        "# Check if there are any Null values\n",
        "print(f\"\"\"In the dataframe \\\"df_sales\\\" {f\"there {\"is\" if df_sales.isna().sum().sum() == 1 else \"are\"} {df_sales.isna().sum().sum()}\" if df_sales.isna().values.any() else \"there are not\"} null value.\n",
        "In the dataframe \\\"df_clients\\\" {f\"there {\"is\" if df_clients.isna().sum().sum() == 1 else \"are\"} {df_clients.isna().sum().sum()}\" if df_clients.isna().values.any() else \"there are not\"} null value.\"\n",
        "      \"\"\")\n",
        "\n"
      ]
    },
    {
      "cell_type": "code",
      "execution_count": 193,
      "metadata": {},
      "outputs": [],
      "source": [
        "# Best sellers, and their amout of sales\n",
        "df_sales_grouped = df_sales.groupby(by=['Sprzedawca'], sort=True)\n",
        "count_sells_by_seller = df_sales_grouped['Sprzedaż'].count()\n",
        "amout_sells_by_seller = df_sales_grouped['Sprzedaż'].sum()\n",
        "\n",
        "\n",
        "best_sellers_names = list((count_sells_by_seller[count_sells_by_seller >= count_sells_by_seller.quantile(0.95)]).keys())\n",
        "best_sellers_amount = amout_sells_by_seller[best_sellers_names].to_dict()\n"
      ]
    },
    {
      "cell_type": "code",
      "execution_count": 229,
      "metadata": {},
      "outputs": [],
      "source": [
        "# Sprzedaz na produkt\n",
        "sum_sales_per_product = df_sales.groupby(\"Produkt\")['Sprzedaż'].sum()\n",
        "count_sales_per_product = df_sales.groupby(\"Produkt\")['Sprzedaż'].count()\n",
        "best_selling_product = count_sales_per_product.index[0]\n",
        "\n",
        "best_selling_product \n",
        "best_selling_product_amout = sum_sales_per_product[best_selling_product]\n"
      ]
    },
    {
      "cell_type": "code",
      "execution_count": 242,
      "metadata": {},
      "outputs": [
        {
          "data": {
            "text/html": [
              "<div>\n",
              "<style scoped>\n",
              "    .dataframe tbody tr th:only-of-type {\n",
              "        vertical-align: middle;\n",
              "    }\n",
              "\n",
              "    .dataframe tbody tr th {\n",
              "        vertical-align: top;\n",
              "    }\n",
              "\n",
              "    .dataframe thead th {\n",
              "        text-align: right;\n",
              "    }\n",
              "</style>\n",
              "<table border=\"1\" class=\"dataframe\">\n",
              "  <thead>\n",
              "    <tr style=\"text-align: right;\">\n",
              "      <th></th>\n",
              "      <th>Klient_ID</th>\n",
              "      <th>Nazwa</th>\n",
              "      <th>Miasto</th>\n",
              "      <th>Branża</th>\n",
              "      <th>ID</th>\n",
              "      <th>Sprzedawca</th>\n",
              "      <th>Produkt</th>\n",
              "      <th>Region</th>\n",
              "      <th>Sprzedaż</th>\n",
              "    </tr>\n",
              "  </thead>\n",
              "  <tbody>\n",
              "    <tr>\n",
              "      <th>0</th>\n",
              "      <td>1</td>\n",
              "      <td>Firma A</td>\n",
              "      <td>Warszawa</td>\n",
              "      <td>IT</td>\n",
              "      <td>101</td>\n",
              "      <td>Anna</td>\n",
              "      <td>Laptop</td>\n",
              "      <td>Północ</td>\n",
              "      <td>3000</td>\n",
              "    </tr>\n",
              "    <tr>\n",
              "      <th>1</th>\n",
              "      <td>1</td>\n",
              "      <td>Firma A</td>\n",
              "      <td>Warszawa</td>\n",
              "      <td>IT</td>\n",
              "      <td>103</td>\n",
              "      <td>Anna</td>\n",
              "      <td>Smartfon</td>\n",
              "      <td>Północ</td>\n",
              "      <td>2200</td>\n",
              "    </tr>\n",
              "    <tr>\n",
              "      <th>2</th>\n",
              "      <td>2</td>\n",
              "      <td>Firma B</td>\n",
              "      <td>Kraków</td>\n",
              "      <td>Finanse</td>\n",
              "      <td>102</td>\n",
              "      <td>Bartek</td>\n",
              "      <td>Tablet</td>\n",
              "      <td>Południe</td>\n",
              "      <td>1500</td>\n",
              "    </tr>\n",
              "    <tr>\n",
              "      <th>3</th>\n",
              "      <td>2</td>\n",
              "      <td>Firma B</td>\n",
              "      <td>Kraków</td>\n",
              "      <td>Finanse</td>\n",
              "      <td>106</td>\n",
              "      <td>Bartek</td>\n",
              "      <td>Laptop</td>\n",
              "      <td>Południe</td>\n",
              "      <td>3100</td>\n",
              "    </tr>\n",
              "    <tr>\n",
              "      <th>4</th>\n",
              "      <td>3</td>\n",
              "      <td>Firma C</td>\n",
              "      <td>Gdańsk</td>\n",
              "      <td>Edukacja</td>\n",
              "      <td>104</td>\n",
              "      <td>Kasia</td>\n",
              "      <td>Laptop</td>\n",
              "      <td>Zachód</td>\n",
              "      <td>2700</td>\n",
              "    </tr>\n",
              "    <tr>\n",
              "      <th>5</th>\n",
              "      <td>4</td>\n",
              "      <td>Firma D</td>\n",
              "      <td>Poznań</td>\n",
              "      <td>Budownictwo</td>\n",
              "      <td>105</td>\n",
              "      <td>Marek</td>\n",
              "      <td>Tablet</td>\n",
              "      <td>Wschód</td>\n",
              "      <td>1800</td>\n",
              "    </tr>\n",
              "  </tbody>\n",
              "</table>\n",
              "</div>"
            ],
            "text/plain": [
              "   Klient_ID    Nazwa    Miasto       Branża   ID Sprzedawca   Produkt  \\\n",
              "0          1  Firma A  Warszawa           IT  101       Anna    Laptop   \n",
              "1          1  Firma A  Warszawa           IT  103       Anna  Smartfon   \n",
              "2          2  Firma B    Kraków      Finanse  102     Bartek    Tablet   \n",
              "3          2  Firma B    Kraków      Finanse  106     Bartek    Laptop   \n",
              "4          3  Firma C    Gdańsk     Edukacja  104      Kasia    Laptop   \n",
              "5          4  Firma D    Poznań  Budownictwo  105      Marek    Tablet   \n",
              "\n",
              "     Region  Sprzedaż  \n",
              "0    Północ      3000  \n",
              "1    Północ      2200  \n",
              "2  Południe      1500  \n",
              "3  Południe      3100  \n",
              "4    Zachód      2700  \n",
              "5    Wschód      1800  "
            ]
          },
          "execution_count": 242,
          "metadata": {},
          "output_type": "execute_result"
        }
      ],
      "source": [
        "df_merged = pd.merge(df_clients, df_sales)\n",
        "df_merged"
      ]
    },
    {
      "cell_type": "code",
      "execution_count": 245,
      "metadata": {},
      "outputs": [
        {
          "data": {
            "text/plain": [
              "Region\n",
              "Południe    4600\n",
              "Północ      5200\n",
              "Wschód      1800\n",
              "Zachód      2700\n",
              "Name: Sprzedaż, dtype: int64"
            ]
          },
          "execution_count": 245,
          "metadata": {},
          "output_type": "execute_result"
        }
      ],
      "source": [
        "df_merged.groupby(by='Region')['Sprzedaż'].sum()"
      ]
    },
    {
      "cell_type": "code",
      "execution_count": 248,
      "metadata": {},
      "outputs": [
        {
          "data": {
            "text/plain": [
              "0      Laptop\n",
              "1    Smartfon\n",
              "Name: Produkt, dtype: object"
            ]
          },
          "execution_count": 248,
          "metadata": {},
          "output_type": "execute_result"
        }
      ],
      "source": [
        "df_merged.loc[df_merged['Nazwa'] == df_merged.groupby(by='Nazwa')['Sprzedaż'].sum().index[0]]['Produkt']"
      ]
    },
    {
      "cell_type": "code",
      "execution_count": 249,
      "metadata": {},
      "outputs": [
        {
          "name": "stdout",
          "output_type": "stream",
          "text": [
            "Conclusion:\n",
            "      We've got two datasets: ['df_sales', 'df_clients']\n",
            "      \n",
            "      The first dataset consists 6 columns: {'ID': 'int64', 'Sprzedawca': 'object', 'Produkt': 'object', 'Region': 'object', 'Sprzedaż': 'int64', 'Klient_ID': 'int64'},\n",
            "      and in the \"df_sales\" there are 0 null value.\n",
            "      About data:\n",
            "      Mean sale is equal to 2383.3333333333335.\n",
            "      Median sale was equal to 2450.0\n",
            "      Minimum sale was equal to 1500.0 and the maximum was 3100.0.\n",
            "      We've got 4 sellers: ['Anna', 'Bartek', 'Kasia', 'Marek'] who took part in 6 sales.\n",
            "      We can observe 3 unique product, which are: ['Laptop', 'Tablet', 'Smartfon']\n",
            "      Also Sales are distributed between 4 regions, like ['Północ', 'Południe', 'Zachód', 'Wschód']\n",
            "\n",
            "      The second dataset consists 4 columns: {'Klient_ID': 'int64', 'Nazwa': 'object', 'Miasto': 'object', 'Branża': 'object'}\n",
            "      and in the \"df_clients\" there are 0 null value.\n",
            "      About data:\n",
            "      We've got 4 clients from 4 industries: ['IT', 'Finanse', 'Edukacja', 'Budownictwo'], which operates on different cities: ['Warszawa', 'Kraków', 'Gdańsk', 'Poznań'].\n",
            "      \n",
            "      Additional info:\n",
            "      We can highlight 2 best sellers, which are ['Anna', 'Bartek']. They've sold sum of {'Anna': 5200, 'Bartek': 4600}.\n",
            "      Also worth mentioning is product review, the best selling product is Laptop with sum of sales equal to 8800.\n",
            "      About the firms, we can highlight the Firma A which bought ['Laptop' 'Smartfon'] for the value of 5200.\n",
            "      \n"
          ]
        }
      ],
      "source": [
        "d1 = {name: str(dftype) for name, dftype in zip(df_sales.columns, df_sales.dtypes)}\n",
        "d2 = {name: str(dftype) for name, dftype in zip(df_clients.columns, df_clients.dtypes)}\n",
        "print(f\"\"\"Conclusion:\n",
        "      We've got two datasets: ['df_sales', 'df_clients']\n",
        "      \n",
        "      The first dataset consists {len(df_sales.columns)} columns: {d1},\n",
        "      and in the \\\"df_sales\\\" {f\"there {\"is\" if df_sales.isna().sum().sum() == 1 else \"are\"} {df_sales.isna().sum().sum()}\" if df_sales.isna().values.any() else \"there are 0\"} null value.\n",
        "      About data:\n",
        "      Mean sale is equal to {df_sprzedaz.__getitem__('mean')}.\n",
        "      Median sale was equal to {df_sprzedaz.__getitem__('50%')}\n",
        "      Minimum sale was equal to {df_sprzedaz.__getitem__('min')} and the maximum was {df_sprzedaz.__getitem__('max')}.\n",
        "      We've got {len(df_sales['Sprzedawca'].unique())} sellers: {list(df_sales['Sprzedawca'].unique())} who took part in {len(df_sales['Sprzedawca'])} sales.\n",
        "      We can observe {len(df_sales['Produkt'].unique())} unique product, which are: {list(df_sales['Produkt'].unique())}\n",
        "      Also Sales are distributed between {len(df_sales['Region'].unique())} regions, like {list(df_sales['Region'].unique())}\n",
        "\n",
        "      The second dataset consists {len(df_clients.columns)} columns: {d2}\n",
        "      and in the \\\"df_clients\\\" {f\"there {\"is\" if df_clients.isna().sum().sum() == 1 else \"are\"} {df_clients.isna().sum().sum()}\" if df_clients.isna().values.any() else \"there are 0\"} null value.\n",
        "      About data:\n",
        "      We've got {len(df_clients['Nazwa'].unique())} clients from {len(df_clients['Branża'].unique())} industries: {list(df_clients['Branża'].unique())}, which operates on different cities: {list(df_clients['Miasto'])}.\n",
        "      \n",
        "      Additional info:\n",
        "      We can highlight {len(best_sellers_names)} best sellers, which are {best_sellers_names}. They've sold sum of {best_sellers_amount}.\n",
        "      Also worth mentioning is product review, the best selling product is {best_selling_product} with sum of sales equal to {best_selling_product_amout}.\n",
        "      About the firms, we can highlight the {df_merged.groupby(by='Nazwa')['Sprzedaż'].sum().index[0]} which bought {df_merged.loc[df_merged['Nazwa'] == df_merged.groupby(by='Nazwa')['Sprzedaż'].sum().index[0]]['Produkt'].values} for the value of {df_merged.groupby(by='Nazwa')['Sprzedaż'].sum().iloc[0]}.\n",
        "      \"\"\")"
      ]
    },
    {
      "cell_type": "markdown",
      "metadata": {},
      "source": [
        "---"
      ]
    },
    {
      "cell_type": "markdown",
      "metadata": {},
      "source": [
        "### Data filtering\n"
      ]
    },
    {
      "cell_type": "code",
      "execution_count": null,
      "metadata": {},
      "outputs": [
        {
          "data": {
            "text/html": [
              "<div>\n",
              "<style scoped>\n",
              "    .dataframe tbody tr th:only-of-type {\n",
              "        vertical-align: middle;\n",
              "    }\n",
              "\n",
              "    .dataframe tbody tr th {\n",
              "        vertical-align: top;\n",
              "    }\n",
              "\n",
              "    .dataframe thead th {\n",
              "        text-align: right;\n",
              "    }\n",
              "</style>\n",
              "<table border=\"1\" class=\"dataframe\">\n",
              "  <thead>\n",
              "    <tr style=\"text-align: right;\">\n",
              "      <th></th>\n",
              "      <th>ID</th>\n",
              "      <th>Sprzedawca</th>\n",
              "      <th>Produkt</th>\n",
              "      <th>Region</th>\n",
              "      <th>Sprzedaż</th>\n",
              "      <th>Klient_ID</th>\n",
              "    </tr>\n",
              "  </thead>\n",
              "  <tbody>\n",
              "    <tr>\n",
              "      <th>0</th>\n",
              "      <td>101</td>\n",
              "      <td>Anna</td>\n",
              "      <td>Laptop</td>\n",
              "      <td>Północ</td>\n",
              "      <td>3000</td>\n",
              "      <td>1</td>\n",
              "    </tr>\n",
              "    <tr>\n",
              "      <th>3</th>\n",
              "      <td>104</td>\n",
              "      <td>Kasia</td>\n",
              "      <td>Laptop</td>\n",
              "      <td>Zachód</td>\n",
              "      <td>2700</td>\n",
              "      <td>3</td>\n",
              "    </tr>\n",
              "    <tr>\n",
              "      <th>5</th>\n",
              "      <td>106</td>\n",
              "      <td>Bartek</td>\n",
              "      <td>Laptop</td>\n",
              "      <td>Południe</td>\n",
              "      <td>3100</td>\n",
              "      <td>2</td>\n",
              "    </tr>\n",
              "  </tbody>\n",
              "</table>\n",
              "</div>"
            ],
            "text/plain": [
              "    ID Sprzedawca Produkt    Region  Sprzedaż  Klient_ID\n",
              "0  101       Anna  Laptop    Północ      3000          1\n",
              "3  104      Kasia  Laptop    Zachód      2700          3\n",
              "5  106     Bartek  Laptop  Południe      3100          2"
            ]
          },
          "execution_count": 251,
          "metadata": {},
          "output_type": "execute_result"
        }
      ],
      "source": [
        "# Sales over 2500\n",
        "df_sales.loc[df_sales['Sprzedaż'] >= 2500] # Sales over 2500"
      ]
    },
    {
      "cell_type": "code",
      "execution_count": null,
      "metadata": {},
      "outputs": [
        {
          "data": {
            "text/html": [
              "<div>\n",
              "<style scoped>\n",
              "    .dataframe tbody tr th:only-of-type {\n",
              "        vertical-align: middle;\n",
              "    }\n",
              "\n",
              "    .dataframe tbody tr th {\n",
              "        vertical-align: top;\n",
              "    }\n",
              "\n",
              "    .dataframe thead th {\n",
              "        text-align: right;\n",
              "    }\n",
              "</style>\n",
              "<table border=\"1\" class=\"dataframe\">\n",
              "  <thead>\n",
              "    <tr style=\"text-align: right;\">\n",
              "      <th></th>\n",
              "      <th>ID</th>\n",
              "      <th>Sprzedawca</th>\n",
              "      <th>Produkt</th>\n",
              "      <th>Region</th>\n",
              "      <th>Sprzedaż</th>\n",
              "      <th>Klient_ID</th>\n",
              "    </tr>\n",
              "  </thead>\n",
              "  <tbody>\n",
              "    <tr>\n",
              "      <th>0</th>\n",
              "      <td>101</td>\n",
              "      <td>Anna</td>\n",
              "      <td>Laptop</td>\n",
              "      <td>Północ</td>\n",
              "      <td>3000</td>\n",
              "      <td>1</td>\n",
              "    </tr>\n",
              "    <tr>\n",
              "      <th>2</th>\n",
              "      <td>103</td>\n",
              "      <td>Anna</td>\n",
              "      <td>Smartfon</td>\n",
              "      <td>Północ</td>\n",
              "      <td>2200</td>\n",
              "      <td>1</td>\n",
              "    </tr>\n",
              "  </tbody>\n",
              "</table>\n",
              "</div>"
            ],
            "text/plain": [
              "    ID Sprzedawca   Produkt  Region  Sprzedaż  Klient_ID\n",
              "0  101       Anna    Laptop  Północ      3000          1\n",
              "2  103       Anna  Smartfon  Północ      2200          1"
            ]
          },
          "execution_count": 252,
          "metadata": {},
          "output_type": "execute_result"
        }
      ],
      "source": [
        "df_sales.loc[df_sales['Region'] == 'Północ'] # Sales in Region North"
      ]
    },
    {
      "cell_type": "code",
      "execution_count": null,
      "metadata": {},
      "outputs": [
        {
          "data": {
            "text/html": [
              "<div>\n",
              "<style scoped>\n",
              "    .dataframe tbody tr th:only-of-type {\n",
              "        vertical-align: middle;\n",
              "    }\n",
              "\n",
              "    .dataframe tbody tr th {\n",
              "        vertical-align: top;\n",
              "    }\n",
              "\n",
              "    .dataframe thead th {\n",
              "        text-align: right;\n",
              "    }\n",
              "</style>\n",
              "<table border=\"1\" class=\"dataframe\">\n",
              "  <thead>\n",
              "    <tr style=\"text-align: right;\">\n",
              "      <th></th>\n",
              "      <th>ID</th>\n",
              "      <th>Sprzedawca</th>\n",
              "      <th>Produkt</th>\n",
              "      <th>Region</th>\n",
              "      <th>Sprzedaż</th>\n",
              "      <th>Klient_ID</th>\n",
              "    </tr>\n",
              "  </thead>\n",
              "  <tbody>\n",
              "    <tr>\n",
              "      <th>0</th>\n",
              "      <td>101</td>\n",
              "      <td>Anna</td>\n",
              "      <td>Laptop</td>\n",
              "      <td>Północ</td>\n",
              "      <td>3000</td>\n",
              "      <td>1</td>\n",
              "    </tr>\n",
              "    <tr>\n",
              "      <th>3</th>\n",
              "      <td>104</td>\n",
              "      <td>Kasia</td>\n",
              "      <td>Laptop</td>\n",
              "      <td>Zachód</td>\n",
              "      <td>2700</td>\n",
              "      <td>3</td>\n",
              "    </tr>\n",
              "  </tbody>\n",
              "</table>\n",
              "</div>"
            ],
            "text/plain": [
              "    ID Sprzedawca Produkt  Region  Sprzedaż  Klient_ID\n",
              "0  101       Anna  Laptop  Północ      3000          1\n",
              "3  104      Kasia  Laptop  Zachód      2700          3"
            ]
          },
          "execution_count": 265,
          "metadata": {},
          "output_type": "execute_result"
        }
      ],
      "source": [
        "df_sales.loc[(df_sales['Region'].isin(['Północ', 'Zachód'])) & (df_sales['Produkt'] == 'Laptop')] # Sales in two regions where laptops were sold"
      ]
    },
    {
      "cell_type": "code",
      "execution_count": 267,
      "metadata": {},
      "outputs": [
        {
          "data": {
            "text/html": [
              "<div>\n",
              "<style scoped>\n",
              "    .dataframe tbody tr th:only-of-type {\n",
              "        vertical-align: middle;\n",
              "    }\n",
              "\n",
              "    .dataframe tbody tr th {\n",
              "        vertical-align: top;\n",
              "    }\n",
              "\n",
              "    .dataframe thead th {\n",
              "        text-align: right;\n",
              "    }\n",
              "</style>\n",
              "<table border=\"1\" class=\"dataframe\">\n",
              "  <thead>\n",
              "    <tr style=\"text-align: right;\">\n",
              "      <th></th>\n",
              "      <th>ID</th>\n",
              "      <th>Sprzedawca</th>\n",
              "      <th>Produkt</th>\n",
              "      <th>Region</th>\n",
              "      <th>Sprzedaż</th>\n",
              "      <th>Klient_ID</th>\n",
              "    </tr>\n",
              "  </thead>\n",
              "  <tbody>\n",
              "    <tr>\n",
              "      <th>0</th>\n",
              "      <td>101</td>\n",
              "      <td>Anna</td>\n",
              "      <td>Laptop</td>\n",
              "      <td>Północ</td>\n",
              "      <td>3000</td>\n",
              "      <td>1</td>\n",
              "    </tr>\n",
              "    <tr>\n",
              "      <th>2</th>\n",
              "      <td>103</td>\n",
              "      <td>Anna</td>\n",
              "      <td>Smartfon</td>\n",
              "      <td>Północ</td>\n",
              "      <td>2200</td>\n",
              "      <td>1</td>\n",
              "    </tr>\n",
              "    <tr>\n",
              "      <th>3</th>\n",
              "      <td>104</td>\n",
              "      <td>Kasia</td>\n",
              "      <td>Laptop</td>\n",
              "      <td>Zachód</td>\n",
              "      <td>2700</td>\n",
              "      <td>3</td>\n",
              "    </tr>\n",
              "  </tbody>\n",
              "</table>\n",
              "</div>"
            ],
            "text/plain": [
              "    ID Sprzedawca   Produkt  Region  Sprzedaż  Klient_ID\n",
              "0  101       Anna    Laptop  Północ      3000          1\n",
              "2  103       Anna  Smartfon  Północ      2200          1\n",
              "3  104      Kasia    Laptop  Zachód      2700          3"
            ]
          },
          "execution_count": 267,
          "metadata": {},
          "output_type": "execute_result"
        }
      ],
      "source": [
        "df_sales.loc[df_sales['Sprzedaż'].between(2000, 3000)] # Sales ranging from 2000 to 3000"
      ]
    },
    {
      "cell_type": "code",
      "execution_count": 271,
      "metadata": {},
      "outputs": [
        {
          "data": {
            "text/plain": [
              "Series([], Name: Sprzedawca, dtype: object)"
            ]
          },
          "execution_count": 271,
          "metadata": {},
          "output_type": "execute_result"
        }
      ],
      "source": [
        "df_sales.loc[(df_sales['Region'] == 'Południe') & (df_sales['Produkt'] == \"Smartfon\")]['Sprzedawca']"
      ]
    },
    {
      "cell_type": "code",
      "execution_count": 274,
      "metadata": {},
      "outputs": [
        {
          "data": {
            "text/html": [
              "<div>\n",
              "<style scoped>\n",
              "    .dataframe tbody tr th:only-of-type {\n",
              "        vertical-align: middle;\n",
              "    }\n",
              "\n",
              "    .dataframe tbody tr th {\n",
              "        vertical-align: top;\n",
              "    }\n",
              "\n",
              "    .dataframe thead th {\n",
              "        text-align: right;\n",
              "    }\n",
              "</style>\n",
              "<table border=\"1\" class=\"dataframe\">\n",
              "  <thead>\n",
              "    <tr style=\"text-align: right;\">\n",
              "      <th></th>\n",
              "      <th>ID</th>\n",
              "      <th>Sprzedawca</th>\n",
              "      <th>Produkt</th>\n",
              "      <th>Region</th>\n",
              "      <th>Sprzedaż</th>\n",
              "      <th>Klient_ID</th>\n",
              "    </tr>\n",
              "  </thead>\n",
              "  <tbody>\n",
              "    <tr>\n",
              "      <th>1</th>\n",
              "      <td>102</td>\n",
              "      <td>Bartek</td>\n",
              "      <td>Tablet</td>\n",
              "      <td>Południe</td>\n",
              "      <td>1500</td>\n",
              "      <td>2</td>\n",
              "    </tr>\n",
              "    <tr>\n",
              "      <th>4</th>\n",
              "      <td>105</td>\n",
              "      <td>Marek</td>\n",
              "      <td>Tablet</td>\n",
              "      <td>Wschód</td>\n",
              "      <td>1800</td>\n",
              "      <td>4</td>\n",
              "    </tr>\n",
              "  </tbody>\n",
              "</table>\n",
              "</div>"
            ],
            "text/plain": [
              "    ID Sprzedawca Produkt    Region  Sprzedaż  Klient_ID\n",
              "1  102     Bartek  Tablet  Południe      1500          2\n",
              "4  105      Marek  Tablet    Wschód      1800          4"
            ]
          },
          "execution_count": 274,
          "metadata": {},
          "output_type": "execute_result"
        }
      ],
      "source": [
        "df_sales.loc[(~ (df_sales['Produkt'] == 'Laptop')) & (df_sales['Sprzedaż'] < 2000)]"
      ]
    },
    {
      "cell_type": "code",
      "execution_count": 275,
      "metadata": {},
      "outputs": [
        {
          "data": {
            "text/html": [
              "<div>\n",
              "<style scoped>\n",
              "    .dataframe tbody tr th:only-of-type {\n",
              "        vertical-align: middle;\n",
              "    }\n",
              "\n",
              "    .dataframe tbody tr th {\n",
              "        vertical-align: top;\n",
              "    }\n",
              "\n",
              "    .dataframe thead th {\n",
              "        text-align: right;\n",
              "    }\n",
              "</style>\n",
              "<table border=\"1\" class=\"dataframe\">\n",
              "  <thead>\n",
              "    <tr style=\"text-align: right;\">\n",
              "      <th></th>\n",
              "      <th>Klient_ID</th>\n",
              "      <th>Nazwa</th>\n",
              "      <th>Miasto</th>\n",
              "      <th>Branża</th>\n",
              "      <th>ID</th>\n",
              "      <th>Sprzedawca</th>\n",
              "      <th>Produkt</th>\n",
              "      <th>Region</th>\n",
              "      <th>Sprzedaż</th>\n",
              "    </tr>\n",
              "  </thead>\n",
              "  <tbody>\n",
              "    <tr>\n",
              "      <th>0</th>\n",
              "      <td>1</td>\n",
              "      <td>Firma A</td>\n",
              "      <td>Warszawa</td>\n",
              "      <td>IT</td>\n",
              "      <td>101</td>\n",
              "      <td>Anna</td>\n",
              "      <td>Laptop</td>\n",
              "      <td>Północ</td>\n",
              "      <td>3000</td>\n",
              "    </tr>\n",
              "    <tr>\n",
              "      <th>1</th>\n",
              "      <td>1</td>\n",
              "      <td>Firma A</td>\n",
              "      <td>Warszawa</td>\n",
              "      <td>IT</td>\n",
              "      <td>103</td>\n",
              "      <td>Anna</td>\n",
              "      <td>Smartfon</td>\n",
              "      <td>Północ</td>\n",
              "      <td>2200</td>\n",
              "    </tr>\n",
              "    <tr>\n",
              "      <th>2</th>\n",
              "      <td>2</td>\n",
              "      <td>Firma B</td>\n",
              "      <td>Kraków</td>\n",
              "      <td>Finanse</td>\n",
              "      <td>102</td>\n",
              "      <td>Bartek</td>\n",
              "      <td>Tablet</td>\n",
              "      <td>Południe</td>\n",
              "      <td>1500</td>\n",
              "    </tr>\n",
              "    <tr>\n",
              "      <th>3</th>\n",
              "      <td>2</td>\n",
              "      <td>Firma B</td>\n",
              "      <td>Kraków</td>\n",
              "      <td>Finanse</td>\n",
              "      <td>106</td>\n",
              "      <td>Bartek</td>\n",
              "      <td>Laptop</td>\n",
              "      <td>Południe</td>\n",
              "      <td>3100</td>\n",
              "    </tr>\n",
              "    <tr>\n",
              "      <th>4</th>\n",
              "      <td>3</td>\n",
              "      <td>Firma C</td>\n",
              "      <td>Gdańsk</td>\n",
              "      <td>Edukacja</td>\n",
              "      <td>104</td>\n",
              "      <td>Kasia</td>\n",
              "      <td>Laptop</td>\n",
              "      <td>Zachód</td>\n",
              "      <td>2700</td>\n",
              "    </tr>\n",
              "    <tr>\n",
              "      <th>5</th>\n",
              "      <td>4</td>\n",
              "      <td>Firma D</td>\n",
              "      <td>Poznań</td>\n",
              "      <td>Budownictwo</td>\n",
              "      <td>105</td>\n",
              "      <td>Marek</td>\n",
              "      <td>Tablet</td>\n",
              "      <td>Wschód</td>\n",
              "      <td>1800</td>\n",
              "    </tr>\n",
              "  </tbody>\n",
              "</table>\n",
              "</div>"
            ],
            "text/plain": [
              "   Klient_ID    Nazwa    Miasto       Branża   ID Sprzedawca   Produkt  \\\n",
              "0          1  Firma A  Warszawa           IT  101       Anna    Laptop   \n",
              "1          1  Firma A  Warszawa           IT  103       Anna  Smartfon   \n",
              "2          2  Firma B    Kraków      Finanse  102     Bartek    Tablet   \n",
              "3          2  Firma B    Kraków      Finanse  106     Bartek    Laptop   \n",
              "4          3  Firma C    Gdańsk     Edukacja  104      Kasia    Laptop   \n",
              "5          4  Firma D    Poznań  Budownictwo  105      Marek    Tablet   \n",
              "\n",
              "     Region  Sprzedaż  \n",
              "0    Północ      3000  \n",
              "1    Północ      2200  \n",
              "2  Południe      1500  \n",
              "3  Południe      3100  \n",
              "4    Zachód      2700  \n",
              "5    Wschód      1800  "
            ]
          },
          "execution_count": 275,
          "metadata": {},
          "output_type": "execute_result"
        }
      ],
      "source": [
        "df_merged"
      ]
    },
    {
      "cell_type": "code",
      "execution_count": null,
      "metadata": {},
      "outputs": [
        {
          "data": {
            "text/html": [
              "<div>\n",
              "<style scoped>\n",
              "    .dataframe tbody tr th:only-of-type {\n",
              "        vertical-align: middle;\n",
              "    }\n",
              "\n",
              "    .dataframe tbody tr th {\n",
              "        vertical-align: top;\n",
              "    }\n",
              "\n",
              "    .dataframe thead th {\n",
              "        text-align: right;\n",
              "    }\n",
              "</style>\n",
              "<table border=\"1\" class=\"dataframe\">\n",
              "  <thead>\n",
              "    <tr style=\"text-align: right;\">\n",
              "      <th></th>\n",
              "      <th>Klient_ID</th>\n",
              "      <th>Nazwa</th>\n",
              "      <th>Miasto</th>\n",
              "      <th>Branża</th>\n",
              "      <th>ID</th>\n",
              "      <th>Sprzedawca</th>\n",
              "      <th>Produkt</th>\n",
              "      <th>Region</th>\n",
              "      <th>Sprzedaż</th>\n",
              "    </tr>\n",
              "  </thead>\n",
              "  <tbody>\n",
              "    <tr>\n",
              "      <th>5</th>\n",
              "      <td>4</td>\n",
              "      <td>Firma D</td>\n",
              "      <td>Poznań</td>\n",
              "      <td>Budownictwo</td>\n",
              "      <td>105</td>\n",
              "      <td>Marek</td>\n",
              "      <td>Tablet</td>\n",
              "      <td>Wschód</td>\n",
              "      <td>1800</td>\n",
              "    </tr>\n",
              "  </tbody>\n",
              "</table>\n",
              "</div>"
            ],
            "text/plain": [
              "   Klient_ID    Nazwa  Miasto       Branża   ID Sprzedawca Produkt  Region  \\\n",
              "5          4  Firma D  Poznań  Budownictwo  105      Marek  Tablet  Wschód   \n",
              "\n",
              "   Sprzedaż  \n",
              "5      1800  "
            ]
          },
          "execution_count": 277,
          "metadata": {},
          "output_type": "execute_result"
        }
      ],
      "source": [
        "df_merged.loc[(df_merged['Miasto'] == 'Poznań') & (~ (df_merged['Produkt'] == 'Smarfon'))] "
      ]
    },
    {
      "cell_type": "code",
      "execution_count": 279,
      "metadata": {},
      "outputs": [
        {
          "data": {
            "text/html": [
              "<div>\n",
              "<style scoped>\n",
              "    .dataframe tbody tr th:only-of-type {\n",
              "        vertical-align: middle;\n",
              "    }\n",
              "\n",
              "    .dataframe tbody tr th {\n",
              "        vertical-align: top;\n",
              "    }\n",
              "\n",
              "    .dataframe thead th {\n",
              "        text-align: right;\n",
              "    }\n",
              "</style>\n",
              "<table border=\"1\" class=\"dataframe\">\n",
              "  <thead>\n",
              "    <tr style=\"text-align: right;\">\n",
              "      <th></th>\n",
              "      <th>Klient_ID</th>\n",
              "      <th>Nazwa</th>\n",
              "      <th>Miasto</th>\n",
              "      <th>Branża</th>\n",
              "      <th>ID</th>\n",
              "      <th>Sprzedawca</th>\n",
              "      <th>Produkt</th>\n",
              "      <th>Region</th>\n",
              "      <th>Sprzedaż</th>\n",
              "    </tr>\n",
              "  </thead>\n",
              "  <tbody>\n",
              "    <tr>\n",
              "      <th>0</th>\n",
              "      <td>1</td>\n",
              "      <td>Firma A</td>\n",
              "      <td>Warszawa</td>\n",
              "      <td>IT</td>\n",
              "      <td>101</td>\n",
              "      <td>Anna</td>\n",
              "      <td>Laptop</td>\n",
              "      <td>Północ</td>\n",
              "      <td>3000</td>\n",
              "    </tr>\n",
              "  </tbody>\n",
              "</table>\n",
              "</div>"
            ],
            "text/plain": [
              "   Klient_ID    Nazwa    Miasto Branża   ID Sprzedawca Produkt  Region  \\\n",
              "0          1  Firma A  Warszawa     IT  101       Anna  Laptop  Północ   \n",
              "\n",
              "   Sprzedaż  \n",
              "0      3000  "
            ]
          },
          "execution_count": 279,
          "metadata": {},
          "output_type": "execute_result"
        }
      ],
      "source": [
        "df_merged.loc[(df_merged['Miasto'] == 'Warszawa') & (df_merged['Produkt'] == 'Laptop') & (df_merged['Sprzedaż'] > df_merged['Sprzedaż'].mean())]"
      ]
    },
    {
      "cell_type": "code",
      "execution_count": 281,
      "metadata": {},
      "outputs": [
        {
          "data": {
            "text/html": [
              "<div>\n",
              "<style scoped>\n",
              "    .dataframe tbody tr th:only-of-type {\n",
              "        vertical-align: middle;\n",
              "    }\n",
              "\n",
              "    .dataframe tbody tr th {\n",
              "        vertical-align: top;\n",
              "    }\n",
              "\n",
              "    .dataframe thead th {\n",
              "        text-align: right;\n",
              "    }\n",
              "</style>\n",
              "<table border=\"1\" class=\"dataframe\">\n",
              "  <thead>\n",
              "    <tr style=\"text-align: right;\">\n",
              "      <th></th>\n",
              "      <th>Klient_ID</th>\n",
              "      <th>Nazwa</th>\n",
              "      <th>Miasto</th>\n",
              "      <th>Branża</th>\n",
              "      <th>ID</th>\n",
              "      <th>Sprzedawca</th>\n",
              "      <th>Produkt</th>\n",
              "      <th>Region</th>\n",
              "      <th>Sprzedaż</th>\n",
              "    </tr>\n",
              "  </thead>\n",
              "  <tbody>\n",
              "    <tr>\n",
              "      <th>0</th>\n",
              "      <td>1</td>\n",
              "      <td>Firma A</td>\n",
              "      <td>Warszawa</td>\n",
              "      <td>IT</td>\n",
              "      <td>101</td>\n",
              "      <td>Anna</td>\n",
              "      <td>Laptop</td>\n",
              "      <td>Północ</td>\n",
              "      <td>3000</td>\n",
              "    </tr>\n",
              "    <tr>\n",
              "      <th>1</th>\n",
              "      <td>1</td>\n",
              "      <td>Firma A</td>\n",
              "      <td>Warszawa</td>\n",
              "      <td>IT</td>\n",
              "      <td>103</td>\n",
              "      <td>Anna</td>\n",
              "      <td>Smartfon</td>\n",
              "      <td>Północ</td>\n",
              "      <td>2200</td>\n",
              "    </tr>\n",
              "  </tbody>\n",
              "</table>\n",
              "</div>"
            ],
            "text/plain": [
              "   Klient_ID    Nazwa    Miasto Branża   ID Sprzedawca   Produkt  Region  \\\n",
              "0          1  Firma A  Warszawa     IT  101       Anna    Laptop  Północ   \n",
              "1          1  Firma A  Warszawa     IT  103       Anna  Smartfon  Północ   \n",
              "\n",
              "   Sprzedaż  \n",
              "0      3000  \n",
              "1      2200  "
            ]
          },
          "execution_count": 281,
          "metadata": {},
          "output_type": "execute_result"
        }
      ],
      "source": [
        "df_merged.loc[(df_merged['Branża'] == 'IT') & (df_merged['Sprzedaż'] > 2000)]"
      ]
    },
    {
      "cell_type": "code",
      "execution_count": 286,
      "metadata": {},
      "outputs": [
        {
          "data": {
            "text/plain": [
              "2    Bartek\n",
              "5     Marek\n",
              "Name: Sprzedawca, dtype: object"
            ]
          },
          "execution_count": 286,
          "metadata": {},
          "output_type": "execute_result"
        }
      ],
      "source": [
        "df_merged.loc[(df_merged['Produkt'] == 'Tablet') & (~(df_merged['Branża'] == 'Edukacja')), 'Sprzedawca']"
      ]
    },
    {
      "cell_type": "markdown",
      "metadata": {},
      "source": [
        "---"
      ]
    },
    {
      "cell_type": "code",
      "execution_count": null,
      "metadata": {},
      "outputs": [],
      "source": []
    }
  ],
  "metadata": {
    "colab": {
      "private_outputs": true,
      "provenance": []
    },
    "kernelspec": {
      "display_name": "base",
      "language": "python",
      "name": "python3"
    },
    "language_info": {
      "codemirror_mode": {
        "name": "ipython",
        "version": 3
      },
      "file_extension": ".py",
      "mimetype": "text/x-python",
      "name": "python",
      "nbconvert_exporter": "python",
      "pygments_lexer": "ipython3",
      "version": "3.12.7"
    }
  },
  "nbformat": 4,
  "nbformat_minor": 0
}
