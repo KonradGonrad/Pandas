{
  "nbformat": 4,
  "nbformat_minor": 0,
  "metadata": {
    "colab": {
      "private_outputs": true,
      "provenance": []
    },
    "kernelspec": {
      "name": "python3",
      "display_name": "Python 3"
    },
    "language_info": {
      "name": "python"
    }
  },
  "cells": [
    {
      "cell_type": "code",
      "source": [
        "# imports\n",
        "import pandas as pd\n",
        "import numpy as np"
      ],
      "metadata": {
        "id": "7IbzR9KaJaEN"
      },
      "execution_count": null,
      "outputs": []
    },
    {
      "cell_type": "code",
      "execution_count": null,
      "metadata": {
        "id": "28XGw46bJLhe"
      },
      "outputs": [],
      "source": [
        "# Data\n",
        "data = {\n",
        "    \"title\": [\n",
        "        \"Władca Pierścieni\", \"Harry Potter\", \"Zbrodnia i kara\",\n",
        "        \"Rok 1984\", \"Lalka\", \"Duma i uprzedzenie\", \"Mały Książę\"\n",
        "    ],\n",
        "    \"author\": [\n",
        "        \"J.R.R. Tolkien\", \"J.K. Rowling\", \"Fiodor Dostojewski\",\n",
        "        \"George Orwell\", \"Bolesław Prus\", \"Jane Austen\", \"Antoine de Saint-Exupéry\"\n",
        "    ],\n",
        "    \"price\": [59.90, 39.99, 45.50, 33.00, 42.00, 36.99, 29.90],\n",
        "    \"rating\": [4.9, 4.8, 4.6, 4.7, 4.5, 4.6, 4.8],\n",
        "    \"year\": [1954, 1997, 1866, 1949, 1890, 1813, 1943],\n",
        "    \"pages\": [1178, 340, 671, 328, 672, 432, 96]\n",
        "}"
      ]
    },
    {
      "cell_type": "code",
      "source": [
        "# Creating dataframe\n",
        "df_1 = pd.DataFrame(data=data, index=[i for i in range(1,8,1)], columns=[\"title\", \"author\", \"year\", \"pages\", \"rating\", \"price\"], dtype=str, copy=False)\n",
        "df_2 = pd.DataFrame(data=data, index=[i for i in range(1,8,1)], columns=[\"title\", \"author\", \"year\", \"pages\", \"rating\", \"price\"], dtype=str, copy=True)"
      ],
      "metadata": {
        "id": "oLgyFKhEOqxx"
      },
      "execution_count": null,
      "outputs": []
    },
    {
      "cell_type": "code",
      "source": [
        "# Creating Series\n",
        "sr = pd.Series(data=data[\"rating\"], index=[title for title in data[\"title\"]], dtype=str, name=0)"
      ],
      "metadata": {
        "id": "8E-kxUmSTr30"
      },
      "execution_count": null,
      "outputs": []
    },
    {
      "cell_type": "markdown",
      "source": [
        "testing copy parameter"
      ],
      "metadata": {
        "id": "3El1dguYwPRn"
      }
    },
    {
      "cell_type": "code",
      "source": [
        "# Testing copy parameter\n",
        "df_1_test = df_1\n",
        "df_1_test.loc[1, \"title\"] = \"2\"\n",
        "df_1"
      ],
      "metadata": {
        "id": "fyVc3iw8rzfO"
      },
      "execution_count": null,
      "outputs": []
    },
    {
      "cell_type": "code",
      "source": [
        "# Testing copy parameter 2\n",
        "df_2_test = df_2\n",
        "\n",
        "df_2_test.loc[1, \"title\"] = \"1\"\n",
        "df_2"
      ],
      "metadata": {
        "id": "fZSB-znKsFbI"
      },
      "execution_count": null,
      "outputs": []
    },
    {
      "cell_type": "code",
      "source": [
        "df_1_test = df_1\n",
        "\n",
        "df_1_test.loc[1, \"author\"] = \"2\"\n",
        "df_1"
      ],
      "metadata": {
        "id": "oScarWgrwAto"
      },
      "execution_count": null,
      "outputs": []
    },
    {
      "cell_type": "code",
      "source": [
        "df_2_test = df_2.copy()\n",
        "\n",
        "df_2_test.loc[1, \"author\"] = \"2\"\n",
        "df_2"
      ],
      "metadata": {
        "id": "BpHB5IycwIls"
      },
      "execution_count": null,
      "outputs": []
    },
    {
      "cell_type": "markdown",
      "source": [
        "Utwórz DataFrame z danymi o książkach (tytuł, autor, cena)"
      ],
      "metadata": {
        "id": "zbY4jp78wR6j"
      }
    },
    {
      "cell_type": "code",
      "source": [
        "custom_df = pd.DataFrame(data=data, columns=[\"title\", \"author\", \"price\"])\n",
        "custom_df"
      ],
      "metadata": {
        "id": "lsdfMUw5Osra"
      },
      "execution_count": null,
      "outputs": []
    },
    {
      "cell_type": "markdown",
      "source": [
        "df tail oraz head"
      ],
      "metadata": {
        "id": "2_B7Tr2I1bra"
      }
    },
    {
      "cell_type": "code",
      "source": [
        "df_1.head(3)"
      ],
      "metadata": {
        "id": "_2koXW5C1hO1"
      },
      "execution_count": null,
      "outputs": []
    },
    {
      "cell_type": "code",
      "source": [
        "df_2.tail(3).head(1)"
      ],
      "metadata": {
        "id": "BdZpY3Ay1bZe"
      },
      "execution_count": null,
      "outputs": []
    },
    {
      "cell_type": "markdown",
      "source": [
        "df info oraz describe"
      ],
      "metadata": {
        "id": "dMET5qxP19Dx"
      }
    },
    {
      "cell_type": "code",
      "source": [
        "# Verbose True\n",
        "df_1.info(verbose=True)"
      ],
      "metadata": {
        "id": "Vmy-hE4B2Aae"
      },
      "execution_count": null,
      "outputs": []
    },
    {
      "cell_type": "code",
      "source": [
        "# Verbose False\n",
        "df_1.info(verbose=False)"
      ],
      "metadata": {
        "id": "w_ZBFI3H2Oy1"
      },
      "execution_count": null,
      "outputs": []
    },
    {
      "cell_type": "code",
      "source": [
        "df_1.info(show_counts = True, memory_usage=\"deep\")"
      ],
      "metadata": {
        "id": "G96inNnt2AUm"
      },
      "execution_count": null,
      "outputs": []
    },
    {
      "cell_type": "code",
      "source": [
        "data = {\n",
        "    \"Imie\": [\"Jan\", \"Piotr\", \"Anna\", \"Krzysztof\", \"Jan\", \"Konrad\", \"Kuba\", \"Alicja\", \"Joanna\", \"Tomasz\"],\n",
        "    'Wiek': [23, 45, 31, 35, 52, 46, 28, 33, 41, 39],\n",
        "    'Wzrost': [175, 180, 168, 172, 178, 185, 170, 176, 182, 177],\n",
        "    'Waga': [70, 85, 65, 68, 90, 88, 72, 75, 86, 80],\n",
        "    'Dochód': [3200, 4500, 3900, 4100, 5200, 4800, 3600, 4000, 4700, 4300]\n",
        "}\n",
        "numerical_df = pd.DataFrame(data=data)\n",
        "numerical_df"
      ],
      "metadata": {
        "id": "Y_onwlyIFhn4"
      },
      "execution_count": null,
      "outputs": []
    },
    {
      "cell_type": "code",
      "source": [
        "numerical_df.describe(percentiles=[0.4])"
      ],
      "metadata": {
        "id": "j4_7NrlRJljd"
      },
      "execution_count": null,
      "outputs": []
    },
    {
      "cell_type": "code",
      "source": [
        "numerical_df.describe(include=[object])"
      ],
      "metadata": {
        "id": "KZ8wHpieDBmk"
      },
      "execution_count": null,
      "outputs": []
    },
    {
      "cell_type": "code",
      "source": [
        "numerical_df.describe(exclude=[np.number])"
      ],
      "metadata": {
        "id": "TdF-XzHlGxqe"
      },
      "execution_count": null,
      "outputs": []
    },
    {
      "cell_type": "markdown",
      "source": [
        "shape, columns, index"
      ],
      "metadata": {
        "id": "ptqevwx7HNnV"
      }
    },
    {
      "cell_type": "code",
      "source": [
        "numerical_df.shape"
      ],
      "metadata": {
        "id": "conFEnXQHQzX"
      },
      "execution_count": null,
      "outputs": []
    },
    {
      "cell_type": "code",
      "source": [
        "print(f\"in the numerical_df are {list(numerical_df.columns)} columns. \\nThe first one is {numerical_df.columns[0]}\")"
      ],
      "metadata": {
        "id": "_eFsjkRQHQxM"
      },
      "execution_count": null,
      "outputs": []
    },
    {
      "cell_type": "code",
      "source": [
        "numerical_df.index"
      ],
      "metadata": {
        "id": "nZOthjDiHQu2"
      },
      "execution_count": null,
      "outputs": []
    },
    {
      "cell_type": "markdown",
      "source": [
        "dtypes and memory_usage"
      ],
      "metadata": {
        "id": "J5zMCFh9QsAd"
      }
    },
    {
      "cell_type": "code",
      "source": [
        "numerical_df.dtypes"
      ],
      "metadata": {
        "id": "CXHtRP2VQcTA"
      },
      "execution_count": null,
      "outputs": []
    },
    {
      "cell_type": "code",
      "source": [
        "numerical_df.memory_usage(deep=True)"
      ],
      "metadata": {
        "id": "8g-GWKPLQtpN"
      },
      "execution_count": null,
      "outputs": []
    },
    {
      "cell_type": "code",
      "source": [
        "numerical_df.memory_usage(deep=True)"
      ],
      "metadata": {
        "id": "0NHaaWy9Vzzn"
      },
      "execution_count": null,
      "outputs": []
    },
    {
      "cell_type": "code",
      "source": [
        "from io import StringIO\n",
        "\n",
        "csv_data = StringIO(\"\"\"\n",
        "title,author,year,pages,rating,price\n",
        "The Pragmatic Programmer,Andrew Hunt,1999,352,4.5,42.99\n",
        "Clean Code,Robert C. Martin,2008,464,4.7,33.50\n",
        "Introduction to Machine Learning,Andreas Müller,2016,400,4.3,45.00\n",
        "Deep Learning,Ian Goodfellow,2016,800,4.6,75.00\n",
        "Python for Data Analysis,Wes McKinney,2017,550,4.4,39.99\n",
        "Hands-On Machine Learning,Aurélien Géron,2019,850,4.8,49.99\n",
        "Designing Data-Intensive Applications,Martin Kleppmann,2017,616,4.9,54.95\n",
        "\"\"\")\n",
        "\n",
        "csv_data.seek(0)"
      ],
      "metadata": {
        "id": "kp4Y_xKFPpoO"
      },
      "execution_count": null,
      "outputs": []
    },
    {
      "cell_type": "code",
      "source": [
        "df_test = pd.read_csv(csv_data)\n",
        "df_test"
      ],
      "metadata": {
        "id": "8qlJ12uPxbLO"
      },
      "execution_count": null,
      "outputs": []
    },
    {
      "cell_type": "code",
      "source": [
        "name_dtype = {name: key for name, key in zip(list(df_test.columns), list(df_test.dtypes))}\n",
        "\n",
        "print(df_test)\n",
        "print(f\"\"\"\n",
        "That DataFrame has {df_test.shape[0]} rows and {df_test.shape[1]} cols.\n",
        "To that DataFrame belongs {list(df_test.columns)} columns.\n",
        "\"\"\")\n",
        "print(f\"First two elements titles are {list(df_test.head(2)['title'])[0]} and {list(df_test.head(2)['title'])[1]}. \\nAnd The last two elements titles are {list(df_test.tail(2)['title'])[0]} and {list(df_test.tail(2)['title'])[1]}.\")\n",
        "print(f\"There occur {name_dtype} datatypes for\")"
      ],
      "metadata": {
        "id": "jdZdy7okRLDS"
      },
      "execution_count": null,
      "outputs": []
    },
    {
      "cell_type": "code",
      "source": [
        "print(f\"There are \\n{df_test.count()}\\n not nan values\")\n",
        "df_test.info()"
      ],
      "metadata": {
        "id": "7r17L6jUcF1Y"
      },
      "execution_count": null,
      "outputs": []
    },
    {
      "cell_type": "code",
      "source": [
        "df_test.describe(percentiles=[0.25, 0.5, 0.75, 0.9, 1], include=[np.number])\n",
        "# print(df_test['year'].mean())"
      ],
      "metadata": {
        "id": "T58EEfNcd8am"
      },
      "execution_count": null,
      "outputs": []
    },
    {
      "cell_type": "code",
      "source": [
        "df_test.memory_usage(deep=True)"
      ],
      "metadata": {
        "id": "DV69ppKMfqSg"
      },
      "execution_count": null,
      "outputs": []
    },
    {
      "cell_type": "markdown",
      "source": [
        "Dostęp do danych"
      ],
      "metadata": {
        "id": "pTZhUK7_LRZS"
      }
    },
    {
      "cell_type": "code",
      "source": [
        "df_test[\"title\"]"
      ],
      "metadata": {
        "id": "MQA2kZCgMHha"
      },
      "execution_count": null,
      "outputs": []
    },
    {
      "cell_type": "code",
      "source": [
        "df_test.title"
      ],
      "metadata": {
        "id": "K3AuaEDIMJTL"
      },
      "execution_count": null,
      "outputs": []
    },
    {
      "cell_type": "code",
      "source": [
        "df_test[\"title\"].head(3)"
      ],
      "metadata": {
        "id": "U1Jo5dvkgCyU"
      },
      "execution_count": null,
      "outputs": []
    },
    {
      "cell_type": "code",
      "source": [
        "print(f\"First elements is {df_test.title[0]}\")"
      ],
      "metadata": {
        "id": "OSUBMET1LbfQ"
      },
      "execution_count": null,
      "outputs": []
    },
    {
      "cell_type": "code",
      "source": [
        "df_test[[\"title\", \"price\"]].tail(3)"
      ],
      "metadata": {
        "id": "JELOB0JlL8Vr"
      },
      "execution_count": null,
      "outputs": []
    },
    {
      "cell_type": "code",
      "source": [
        "# Nadpisanie zmiennej\n",
        "df_test[\"title\"][0] = \"Pragmatyczny programista\"\n",
        "df_test"
      ],
      "metadata": {
        "id": "7PnGq4K2MeAv"
      },
      "execution_count": null,
      "outputs": []
    },
    {
      "cell_type": "code",
      "source": [
        "# Tworzenie kolumny\n",
        "df_test[\"My_rating\"] = [4, 5, 5, 5, 3, 4, 2]\n",
        "df_test[\"discount_price\"] = [39.99, 29.99, 45.0, 49.99, 29.99, 49.99, 30.99]\n",
        "df_test"
      ],
      "metadata": {
        "id": "hbSzpOfuMzsO"
      },
      "execution_count": null,
      "outputs": []
    },
    {
      "cell_type": "code",
      "source": [
        "# Usuwanie kolumny\n",
        "\n",
        "del df_test[\"My_rating\"]\n",
        "df_test"
      ],
      "metadata": {
        "id": "l7hgbfcCNEvw"
      },
      "execution_count": null,
      "outputs": []
    },
    {
      "cell_type": "code",
      "source": [
        "df_test.drop(\"discount_price\", axis=1)"
      ],
      "metadata": {
        "id": "69Vmv4HQXVNJ"
      },
      "execution_count": null,
      "outputs": []
    },
    {
      "cell_type": "code",
      "source": [
        "df_test.drop(index=2, axis=1)"
      ],
      "metadata": {
        "id": "JriSKrVDNafq"
      },
      "execution_count": null,
      "outputs": []
    },
    {
      "cell_type": "code",
      "source": [
        "df_test.drop(labels=[0], axis = 0)"
      ],
      "metadata": {
        "id": "_mTLwSW3XLXU"
      },
      "execution_count": null,
      "outputs": []
    },
    {
      "cell_type": "code",
      "source": [
        "df_test.drop(columns=[\"author\"])"
      ],
      "metadata": {
        "id": "rMUw-V2RXdwB"
      },
      "execution_count": null,
      "outputs": []
    },
    {
      "cell_type": "code",
      "source": [
        "df_test.values[0]"
      ],
      "metadata": {
        "id": "KX1_37_lX6Gc"
      },
      "execution_count": null,
      "outputs": []
    },
    {
      "cell_type": "code",
      "source": [
        "df_test.at[3, \"title\"]"
      ],
      "metadata": {
        "id": "9EE4n0iUdOJ6"
      },
      "execution_count": null,
      "outputs": []
    },
    {
      "cell_type": "code",
      "source": [
        "df_test.iat[1, 1]"
      ],
      "metadata": {
        "id": "oi_MRh_Fdd_R"
      },
      "execution_count": null,
      "outputs": []
    },
    {
      "cell_type": "markdown",
      "source": [
        "Wyświetl tylko kolumnę \"title\" – na 2 sposoby\n",
        "\n",
        "Wyświetl kolumny \"title\" i \"author\" jednocześnie\n",
        "\n",
        "Zmień kolumnę \"year\" na typ str\n",
        "\n",
        "Dodaj kolumnę \"age\" z wiekiem książki (2025 - rok wydania)\n",
        "\n",
        "Dodaj kolumnę \"net_price\" – odlicz 8% VAT od \"price\"\n",
        "\n",
        "Zmień wartość w komórce: \"title\" książki z indeksem 0 na \"The Pragmatic Dev\"\n",
        "\n",
        "Usuń kolumnę \"rating\"\n",
        "\n",
        "Przypisz cały DataFrame do nowej zmiennej i zobacz, czy zmiany wpływają na oba obiekty (copy vs view)"
      ],
      "metadata": {
        "id": "IcoUHozEeaSa"
      }
    },
    {
      "cell_type": "code",
      "source": [
        "data_books = [\n",
        "    {\"title\": \"The Pragmatic Programmer\", \"author\": \"Andrew Hunt\", \"year\": 1999, \"pages\": 352, \"rating\": 4.5, \"price\": 45.00},\n",
        "    {\"title\": \"Clean Code\", \"author\": \"Robert C. Martin\", \"year\": 2008, \"pages\": 464, \"rating\": 4.7, \"price\": 50.00},\n",
        "    {\"title\": \"Deep Learning\", \"author\": \"Ian Goodfellow\", \"year\": 2016, \"pages\": 775, \"rating\": 4.4, \"price\": 70.00},\n",
        "    {\"title\": \"Introduction to Algorithms\", \"author\": \"Thomas H. Cormen\", \"year\": 2009, \"pages\": 1312, \"rating\": 4.3, \"price\": 90.00},\n",
        "    {\"title\": \"Python Crash Course\", \"author\": \"Eric Matthes\", \"year\": 2015, \"pages\": 544, \"rating\": 4.6, \"price\": 38.00}\n",
        "]\n",
        "\n",
        "df_books = pd.DataFrame(data_books)\n",
        "df_books"
      ],
      "metadata": {
        "collapsed": true,
        "id": "eMw2rs0bd6JA"
      },
      "execution_count": null,
      "outputs": []
    },
    {
      "cell_type": "code",
      "source": [
        "# 1 sposob\n",
        "df_books[\"title\"]\n",
        "# 2 sposob\n",
        "df_books.title"
      ],
      "metadata": {
        "id": "1plKImy-eWAf"
      },
      "execution_count": null,
      "outputs": []
    },
    {
      "cell_type": "code",
      "source": [
        "df_books[[\"title\", \"author\"]]"
      ],
      "metadata": {
        "id": "XfHMYACrehTX"
      },
      "execution_count": null,
      "outputs": []
    },
    {
      "cell_type": "code",
      "source": [
        "df_books['year'].astype(str)"
      ],
      "metadata": {
        "id": "N8jDIfXeeqY_"
      },
      "execution_count": null,
      "outputs": []
    },
    {
      "cell_type": "code",
      "source": [
        "df_books['age'] = 2025 - df_books['year']\n",
        "df_books"
      ],
      "metadata": {
        "id": "_YGOTH1lljrv"
      },
      "execution_count": null,
      "outputs": []
    },
    {
      "cell_type": "code",
      "source": [
        "df_books['net_price'] = df_books[\"price\"] * 0.92\n",
        "df_books"
      ],
      "metadata": {
        "id": "gCbLmH5umYUZ"
      },
      "execution_count": null,
      "outputs": []
    },
    {
      "cell_type": "code",
      "source": [
        "df_books.at[0, \"title\"] = \"The Pragmatic Dev\"\n",
        "df_books"
      ],
      "metadata": {
        "id": "ttglO6l1muM9"
      },
      "execution_count": null,
      "outputs": []
    },
    {
      "cell_type": "code",
      "source": [
        "del df_books[\"rating\"]\n",
        "df_books"
      ],
      "metadata": {
        "id": "bIQ8oXtLm5aK"
      },
      "execution_count": null,
      "outputs": []
    },
    {
      "cell_type": "code",
      "source": [
        "df_books_copy = df_books.copy()\n",
        "df_books_copy"
      ],
      "metadata": {
        "id": "rgIN_GNunA9-"
      },
      "execution_count": null,
      "outputs": []
    },
    {
      "cell_type": "code",
      "source": [
        "df_books_copy.iat[0,0] = \"No book\"\n",
        "df_books_copy"
      ],
      "metadata": {
        "id": "R3xaQc9JnQIU"
      },
      "execution_count": null,
      "outputs": []
    },
    {
      "cell_type": "code",
      "source": [
        "df_books"
      ],
      "metadata": {
        "id": "guM9ZAn4nfug"
      },
      "execution_count": null,
      "outputs": []
    },
    {
      "cell_type": "code",
      "source": [
        "data = {\"id\": [1, 2, 3, 4, 5],\n",
        "        \"price\": [30, 25, 50, 35, 22]}\n",
        "\n",
        "df_index = pd.DataFrame(data)\n",
        "df_index.set_index(\"id\")"
      ],
      "metadata": {
        "id": "sxAC_oAisumx"
      },
      "execution_count": null,
      "outputs": []
    },
    {
      "cell_type": "code",
      "source": [
        "df_index.reset_index(drop = True)"
      ],
      "metadata": {
        "id": "mZ6J_J8NtKWj"
      },
      "execution_count": null,
      "outputs": []
    },
    {
      "cell_type": "markdown",
      "source": [
        "Podstawowe operacje Pandas"
      ],
      "metadata": {
        "id": "w12jtlpUpx04"
      }
    },
    {
      "cell_type": "code",
      "source": [
        "import pandas as pd\n",
        "\n",
        "data_books = [\n",
        "    {\"title\": \"Automate the Boring Stuff\", \"author\": \"Al Sweigart\", \"year\": 2015, \"pages\": 504, \"price\": 30.00, \"rating\": 4.6},\n",
        "    {\"title\": \"Fluent Python\", \"author\": \"Luciano Ramalho\", \"year\": 2015, \"pages\": 792, \"price\": 55.00, \"rating\": 4.7},\n",
        "    {\"title\": \"Python for Data Analysis\", \"author\": \"Wes McKinney\", \"year\": 2022, \"pages\": 550, \"price\": 60.00, \"rating\": 4.8},\n",
        "    {\"title\": \"Effective Python\", \"author\": \"Brett Slatkin\", \"year\": 2019, \"pages\": 480, \"price\": 42.00, \"rating\": 4.5},\n",
        "    {\"title\": \"Think Python\", \"author\": \"Allen B. Downey\", \"year\": 2012, \"pages\": 300, \"price\": 25.00, \"rating\": 4.3}\n",
        "]\n",
        "\n",
        "df = pd.DataFrame(data_books)\n",
        "df"
      ],
      "metadata": {
        "id": "Gc1YDt72njpo"
      },
      "execution_count": null,
      "outputs": []
    },
    {
      "cell_type": "code",
      "source": [
        "# Price inflation\n",
        "df['price'] += 5\n",
        "df"
      ],
      "metadata": {
        "id": "1zcKWLa8qEJ1"
      },
      "execution_count": null,
      "outputs": []
    },
    {
      "cell_type": "code",
      "source": [
        "df[\"price_inc_tax\"] = df['price'] * 1.23\n",
        "df"
      ],
      "metadata": {
        "id": "nZ81pPjAqMuW"
      },
      "execution_count": null,
      "outputs": []
    },
    {
      "cell_type": "code",
      "source": [
        "df['price (str)'] = df['price'].astype(str)\n",
        "print(f\"price type: {df['price'].dtype}\\nprice (str) type: {df['price (str)'].dtype}\")"
      ],
      "metadata": {
        "id": "UMjcU8ZoqvHP"
      },
      "execution_count": null,
      "outputs": []
    },
    {
      "cell_type": "code",
      "source": [
        "df.rename(columns={\"title\": \"Title\"}, inplace = True)\n",
        "df"
      ],
      "metadata": {
        "id": "ikUJMTAjtrQZ"
      },
      "execution_count": null,
      "outputs": []
    },
    {
      "cell_type": "code",
      "source": [
        "df['Title length'] = df['Title'].apply(len)\n",
        "df"
      ],
      "metadata": {
        "id": "vXSAWkng39HE"
      },
      "execution_count": null,
      "outputs": []
    },
    {
      "cell_type": "code",
      "source": [
        "df['age'] = df.apply(lambda row: 2025 - row['year'], axis=1)\n",
        "df"
      ],
      "metadata": {
        "id": "LwbCG3ja3_xz"
      },
      "execution_count": null,
      "outputs": []
    },
    {
      "cell_type": "code",
      "source": [
        "df['rating out of 5'] = df.apply(lambda row: f\"{row['rating']}/5\", axis = 1)\n",
        "df"
      ],
      "metadata": {
        "id": "uc6NKNto4B0n"
      },
      "execution_count": null,
      "outputs": []
    },
    {
      "cell_type": "code",
      "source": [
        "df['tax'] = df.apply(lambda row: row['price_inc_tax'] - row['price'], axis=1)\n",
        "df"
      ],
      "metadata": {
        "id": "6oGUPrtS4Ecw"
      },
      "execution_count": null,
      "outputs": []
    },
    {
      "cell_type": "code",
      "source": [
        "df['pages'] = df.apply(lambda row: f\"{row['pages']} p.\", axis = 1)\n",
        "df"
      ],
      "metadata": {
        "id": "t_bur6ynwrPC"
      },
      "execution_count": null,
      "outputs": []
    },
    {
      "cell_type": "code",
      "source": [
        "df.insert(loc=0,\n",
        "          column=\"id\",\n",
        "          value=[123, 353, 212, 356, 531])\n",
        "df"
      ],
      "metadata": {
        "id": "ulV8NkOsx_BT"
      },
      "execution_count": null,
      "outputs": []
    },
    {
      "cell_type": "code",
      "source": [
        "df[\"price_in_pln\"] = df['price'].map(lambda x: x * 3.97)\n",
        "df[['price', 'price_in_pln']]"
      ],
      "metadata": {
        "id": "BESu5mgo0uwu"
      },
      "execution_count": null,
      "outputs": []
    },
    {
      "cell_type": "code",
      "source": [
        "df['id'].map(lambda x: x - 122)"
      ],
      "metadata": {
        "id": "sVfuZj6a9QnW"
      },
      "execution_count": null,
      "outputs": []
    },
    {
      "cell_type": "code",
      "source": [
        "def convert_rating(x):\n",
        "  if x > 4.5:\n",
        "    score = \"very good\"\n",
        "  elif 4.5 > x > 4.0:\n",
        "    score = \"good\"\n",
        "  elif 4.0 > x >3.5:\n",
        "    score = \"okey\"\n",
        "  else:\n",
        "    score = \"mid\"\n",
        "  return score\n",
        "\n",
        "df['rating'].map(convert_rating)"
      ],
      "metadata": {
        "id": "tYrQvX3x9fAb"
      },
      "execution_count": null,
      "outputs": []
    },
    {
      "cell_type": "markdown",
      "source": [
        "Dodaj nową kolumnę net_price, zawierającą cenę netto po odjęciu 8% VAT.\n",
        "\n",
        "Dodaj kolumnę age, pokazującą wiek książki (liczony od 2025 roku).\n",
        "\n",
        "Dodaj kolumnę pages_per_dollar, obliczającą efektywność ceny (liczba stron / cena).\n",
        "\n",
        "Zmień typ danych w kolumnie year na tekstowy.\n",
        "\n",
        "Usuń kolumnę rating z DataFrame."
      ],
      "metadata": {
        "id": "Izwqv2_b-8IJ"
      }
    },
    {
      "cell_type": "code",
      "source": [
        "import pandas as pd\n",
        "\n",
        "data_books = [\n",
        "    {\"title\": \"Automate the Boring Stuff\", \"author\": \"Al Sweigart\", \"year\": 2015, \"pages\": 504, \"price\": 30.00, \"rating\": 4.6},\n",
        "    {\"title\": \"Fluent Python\", \"author\": \"Luciano Ramalho\", \"year\": 2015, \"pages\": 792, \"price\": 55.00, \"rating\": 4.7},\n",
        "    {\"title\": \"Python for Data Analysis\", \"author\": \"Wes McKinney\", \"year\": 2022, \"pages\": 550, \"price\": 60.00, \"rating\": 4.8},\n",
        "    {\"title\": \"Effective Python\", \"author\": \"Brett Slatkin\", \"year\": 2019, \"pages\": 480, \"price\": 42.00, \"rating\": 4.5},\n",
        "    {\"title\": \"Think Python\", \"author\": \"Allen B. Downey\", \"year\": 2012, \"pages\": 300, \"price\": 25.00, \"rating\": 4.3}\n",
        "]\n",
        "\n",
        "df = pd.DataFrame(data_books)\n",
        "df"
      ],
      "metadata": {
        "id": "Xt5sNSKm-Mob"
      },
      "execution_count": null,
      "outputs": []
    },
    {
      "cell_type": "markdown",
      "source": [
        "Dodaj nową kolumnę net_price, zawierającą cenę netto po odjęciu 8% VAT."
      ],
      "metadata": {
        "id": "YKFN0Lmp_p4D"
      }
    },
    {
      "cell_type": "code",
      "source": [
        "df['net_price'] = df['price'] * 0.92\n",
        "df"
      ],
      "metadata": {
        "id": "Ru2JYz7u-_G8"
      },
      "execution_count": null,
      "outputs": []
    },
    {
      "cell_type": "markdown",
      "source": [
        "Dodaj kolumnę age, pokazującą wiek książki (liczony od 2025 roku)."
      ],
      "metadata": {
        "id": "H4v4x7Me_oJd"
      }
    },
    {
      "cell_type": "code",
      "source": [
        "df['age'] = 2025 - df['year']\n",
        "df"
      ],
      "metadata": {
        "id": "Gc2I6Vh6_FRt"
      },
      "execution_count": null,
      "outputs": []
    },
    {
      "cell_type": "code",
      "source": [
        "df['age'] = df['year'].map(lambda x: 2025 - x)\n",
        "df"
      ],
      "metadata": {
        "id": "AueJrrW2_J5p"
      },
      "execution_count": null,
      "outputs": []
    },
    {
      "cell_type": "code",
      "source": [
        "df['age'] = df.apply(lambda row: 2025 - row['year'], axis=1)\n",
        "df"
      ],
      "metadata": {
        "id": "n1DSgPIa_QxI"
      },
      "execution_count": null,
      "outputs": []
    },
    {
      "cell_type": "markdown",
      "source": [
        "Dodaj kolumnę pages_per_dollar, obliczającą efektywność ceny (liczba stron / cena)."
      ],
      "metadata": {
        "id": "Miq9r8lb_rtl"
      }
    },
    {
      "cell_type": "code",
      "source": [
        "df['pages_per_dollar'] = df.apply(lambda row: row['pages'] / row['price'], axis=1)\n",
        "df"
      ],
      "metadata": {
        "id": "LaphHA9m_Yxl"
      },
      "execution_count": null,
      "outputs": []
    },
    {
      "cell_type": "markdown",
      "source": [
        "Zmień typ danych w kolumnie year na tekstowy."
      ],
      "metadata": {
        "id": "_B-JsHRx_57I"
      }
    },
    {
      "cell_type": "code",
      "source": [
        "df['year'] = df['year'].astype(str)\n",
        "df['year'].dtype"
      ],
      "metadata": {
        "id": "lSae2GER_zcL"
      },
      "execution_count": null,
      "outputs": []
    },
    {
      "cell_type": "code",
      "source": [
        "df.info()"
      ],
      "metadata": {
        "id": "DQ5Uu3wr_8xR"
      },
      "execution_count": null,
      "outputs": []
    },
    {
      "cell_type": "markdown",
      "source": [
        "Usuń kolumnę rating z DataFrame."
      ],
      "metadata": {
        "id": "VB4VVUWrAFkX"
      }
    },
    {
      "cell_type": "code",
      "source": [
        "del df['rating']\n",
        "df"
      ],
      "metadata": {
        "id": "eERX14G-ABFC"
      },
      "execution_count": null,
      "outputs": []
    },
    {
      "cell_type": "code",
      "source": [
        "df.to_csv(\"name.csv\", index=True)"
      ],
      "metadata": {
        "id": "DCZqqUqdAHHH"
      },
      "execution_count": null,
      "outputs": []
    },
    {
      "cell_type": "code",
      "source": [],
      "metadata": {
        "id": "0Os08h4JBenP"
      },
      "execution_count": null,
      "outputs": []
    }
  ]
}